{
 "cells": [
  {
   "cell_type": "code",
   "execution_count": null,
   "metadata": {},
   "outputs": [],
   "source": [
    "import matplotlib.pyplot as plt\n",
    "import seaborn as sns\n",
    "import pandas as pd\n",
    "import numpy as np\n",
    "import matplotlib\n",
    "\n",
    "from glob import glob\n",
    "import functools\n",
    "import json\n",
    "import re\n",
    "\n",
    "sns.set_theme(style=\"darkgrid\", context=\"notebook\", palette=sns.color_palette(\"rocket\", 4))\n",
    "matplotlib.rcParams['figure.figsize'] = (20, 10)\n",
    "\n",
    "%matplotlib inline"
   ]
  },
  {
   "cell_type": "code",
   "execution_count": null,
   "metadata": {},
   "outputs": [],
   "source": [
    "import matplotlib.pyplot as plt\n",
    "import seaborn as sns\n",
    "import pandas as pd\n",
    "import numpy as np\n",
    "import matplotlib\n",
    "\n",
    "from glob import glob\n",
    "import functools\n",
    "import json\n",
    "import re\n",
    "\n",
    "# pick a nice theme :)\n",
    "sns.set_theme(style=\"darkgrid\", context=\"notebook\", palette=sns.color_palette(\"rocket\", 4))\n",
    "matplotlib.rcParams['figure.figsize'] = (20, 10)\n",
    "\n",
    "%matplotlib inline"
   ]
  },
  {
   "cell_type": "code",
   "execution_count": null,
   "metadata": {},
   "outputs": [],
   "source": [
    "# load all results\n",
    "results_files = sorted(glob(f\"results/*.json\"))\n",
    "all_results = []\n",
    "# store layers for each model here\n",
    "layers = {}\n",
    "for file in results_files:\n",
    "    # read json\n",
    "    with open(file, \"r\") as f:\n",
    "        results = json.load(f)\n",
    "    # extract the model name from the filename\n",
    "    model = re.search(r\"results/(.*?).json\", file).group(1)\n",
    "    # save layers without breaking df\n",
    "    layers[model] = results.pop(\"layers\")\n",
    "    for task_name, problem in results.items():\n",
    "        # add the data to the results (to be turned into df)\n",
    "        all_results.append({\n",
    "            \"task\": task_name,\n",
    "            \"model\": model,\n",
    "            \"model/task\": f\"{model}/{task_name}\"}\n",
    "            |\n",
    "            {\n",
    "                # keep attributes as arrays\n",
    "                problem_name: np.array(values)\n",
    "                for problem_name, values in problem.items()\n",
    "            }\n",
    "        )\n",
    "# there is no model called \"gptr2-nano\" so save layers separately\n",
    "layers[\"gptr2-nano\"] = layers[\"gptr2-nano-without-momentum\"]\n",
    "df = pd.DataFrame(all_results)\n",
    "df.head()"
   ]
  },
  {
   "cell_type": "code",
   "execution_count": null,
   "metadata": {},
   "outputs": [],
   "source": [
    "# calculate percentage of outliers\n",
    "df[\"percent\"] = df[\"outliers\"] * 100"
   ]
  },
  {
   "cell_type": "code",
   "execution_count": null,
   "metadata": {},
   "outputs": [],
   "source": [
    "# split up df into different groups\n",
    "resnet_df = df[df[\"model\"].str.match(r\"resnet\\d+$\")]\n",
    "# resort the resnet df (was alphabetical)\n",
    "resnet_df = resnet_df.iloc[[2,3,4,0,1]]\n",
    "base_df = df[df[\"model\"].str.match(r\"[a-z0-9]+-base\")]\n",
    "large_df = df[df[\"model\"].str.match(r\"[a-z0-9]+-large\")]\n",
    "sgd_df = df[df[\"model\"].str.match(r\"([a-z0-9]+-sgd)|(gptr2-.*)\")]"
   ]
  },
  {
   "cell_type": "code",
   "execution_count": null,
   "metadata": {},
   "outputs": [],
   "source": [
    "# generic compose function\n",
    "compose = lambda *F: functools.reduce(lambda f, g: lambda x: f(g(x)), F)"
   ]
  },
  {
   "cell_type": "code",
   "execution_count": null,
   "metadata": {},
   "outputs": [],
   "source": [
    "def plot_layer_chart(results: pd.DataFrame, column: str, title: str = None, split=\"task\", transform=None):\n",
    "    \"\"\"plot a generic chart with attributes changing across layesr\"\"\"\n",
    "    # plot len(models) plots with len(splits) different attributes (can vary per model)\n",
    "    splits = results[split].unique()\n",
    "    models = results[\"model\"].unique()\n",
    "    fig, axes = plt.subplots(len(models))\n",
    "    fig.tight_layout(rect=[0, 0.03, 1, 0.95])\n",
    "    data = []\n",
    "    for pivot in splits:\n",
    "        for model in models:\n",
    "            # calculate a sub-df for each split-model combination\n",
    "            sub_df = results[(results[split] == pivot) & (results[\"model\"] == model)]\n",
    "            # convert into a format seaborn likes\n",
    "            for i, row in sub_df.iterrows():\n",
    "                values = row[column]\n",
    "                for layer, value in enumerate(values):\n",
    "                    data.append({\n",
    "                        split: pivot,\n",
    "                        \"model\": model,\n",
    "                        \"layer\": layer,\n",
    "                        column: value\n",
    "                    })\n",
    "    # convert results to a dataframe\n",
    "    data = pd.DataFrame(data)\n",
    "    previous_tasks = None\n",
    "\n",
    "    # plot results on each axis\n",
    "    for i, model in enumerate(models):\n",
    "        ax = axes[i] if len(models) > 1 else axes\n",
    "        # plot a bar chart\n",
    "        sns.barplot(data[data[\"model\"] == model], x=\"layer\", y=column, hue=split, ax=ax)\n",
    "        tasks = data.loc[data[\"model\"] == model,split].unique()\n",
    "        # only put legend on first plot of each type\n",
    "        if set(tasks) == previous_tasks:\n",
    "            ax.get_legend().remove()\n",
    "        else:\n",
    "            previous_tasks = set(tasks)\n",
    "        # perform a transform to the axis\n",
    "        if transform is not None:\n",
    "            transform(ax)\n",
    "        # add vertical lines for resnets\n",
    "        if not all(layer[1] == 0 for layer in layers[model]):\n",
    "            for i, layer in enumerate(layers[model]):\n",
    "                # put the line between layers\n",
    "                if layer[1] == 0:\n",
    "                    ax.axvline(i - 0.5, ls=\"--\", color=sns.color_palette()[-2])\n",
    "        ax.set_title(model)\n",
    "        ax.set_xlabel(\"\")\n",
    "    plt.suptitle(title)"
   ]
  },
  {
   "cell_type": "code",
   "execution_count": null,
   "metadata": {},
   "outputs": [],
   "source": [
    "def add_values(ax: plt.Axes) -> plt.Axes:\n",
    "    \"\"\"add values to each bar\"\"\"\n",
    "    # calculate the maximum height bar for reference\n",
    "    max_height = max([bar.get_height() for bar in ax.patches])\n",
    "    for bar, line in zip(ax.patches, ax.lines):\n",
    "        x = bar.get_x()\n",
    "        width = bar.get_width()\n",
    "        height = bar.get_height()\n",
    "        y = max(line.get_ydata())\n",
    "        # plot at the top of an error bar (if there is one) or bar\n",
    "        if np.isnan(y):\n",
    "            y = bar.get_height()\n",
    "        # plot with scaled font size and approximation of height shown\n",
    "        ax.text(x + width / 2., y + max_height / 50, f\"{height:.{int(height < 10)}f}\", ha=\"center\", va=\"bottom\", size=min(int(500 / len(ax.patches)), 12))\n",
    "    return ax"
   ]
  },
  {
   "cell_type": "code",
   "execution_count": null,
   "metadata": {},
   "outputs": [],
   "source": [
    "def draw_horizontal_line(ax: plt.Axes, y: float) -> plt.Axes:\n",
    "    \"\"\"draw of horizontal line of a given height\"\"\"\n",
    "    ax.axhline(y=y, color=sns.color_palette()[-2], linestyle=\"--\", linewidth=1)\n",
    "    return ax"
   ]
  },
  {
   "cell_type": "code",
   "execution_count": null,
   "metadata": {},
   "outputs": [],
   "source": [
    "# plot outliers plot\n",
    "plot_layer_chart(base_df, title=\"small llms\", column=\"percent\")\n",
    "plot_layer_chart(large_df, title=\"Large LLMs\", column=\"percent\")\n",
    "plot_layer_chart(resnet_df, title=\"ResNets\", column=\"percent\")\n",
    "plot_layer_chart(sgd_df, title=\"SGD-Trained Models\", column=\"percent\")"
   ]
  },
  {
   "cell_type": "code",
   "execution_count": null,
   "metadata": {},
   "outputs": [],
   "source": [
    "# function to draw line for kurtosis\n",
    "kurtosis_line = functools.partial(draw_horizontal_line, y=3)\n",
    "# plot kurtosis plots\n",
    "plot_layer_chart(base_df, title=\"Small LLMs\", column=\"kurtosis\", transform=kurtosis_line)\n",
    "plot_layer_chart(large_df, title=\"Large LLMs\", column=\"kurtosis\", transform=kurtosis_line)\n",
    "plot_layer_chart(resnet_df, title=\"ResNets\", column=\"kurtosis\", transform=kurtosis_line)\n",
    "plot_layer_chart(sgd_df, title=\"SGD-Trained Models\", column=\"kurtosis\", transform=kurtosis_line)"
   ]
  },
  {
   "cell_type": "code",
   "execution_count": null,
   "metadata": {},
   "outputs": [],
   "source": [
    "def plot_kurtosis(results: pd.DataFrame, title: str = None):\n",
    "    \"\"\"utility for plotting kurtosis and rotated kurtosis\"\"\"\n",
    "    melted_results = pd.melt(results, id_vars=df.columns.difference([\"kurtosis\", \"rotated-kurtosis\"]), value_vars=[\"kurtosis\", \"rotated-kurtosis\"], var_name=\"type\", value_name=\"value\")\n",
    "    melted_results[\"kurtosis\"] = melted_results[\"value\"]\n",
    "    plot_layer_chart(melted_results, title=title, column=\"value\", split=\"type\", transform=compose(add_values, functools.partial(draw_horizontal_line, y=3)))"
   ]
  },
  {
   "cell_type": "code",
   "execution_count": null,
   "metadata": {},
   "outputs": [],
   "source": [
    "# plot a comparison of kurtoses for mixed models\n",
    "plain_resnet_df = resnet_df.copy()\n",
    "# copy original models\n",
    "plain_resnet_df[\"model\"] = resnet_df[\"model\"] + \"-original\"\n",
    "combined_results = pd.concat((sgd_df, plain_resnet_df))\n",
    "# rename models\n",
    "combined_results.replace(r\"-sgd\", r\"-modified\", inplace=True, regex=True)\n",
    "# plot these models\n",
    "models = [\"resnet18\", \"resnet34\", \"gptr2-nano\"]\n",
    "# rename models into model and modification\n",
    "combined_results[\"modification\"] = combined_results[\"model\"]\n",
    "for model in models:\n",
    "    # select the rows that start with the model name\n",
    "    selected_rows = combined_results[\"model\"].str.startswith(model)\n",
    "    # change the modification to the last part of the model\n",
    "    combined_results.loc[selected_rows, \"modification\"] = combined_results.loc[selected_rows, \"model\"].str.extract(f\"(?<={model})-(.*)\", expand=False)\n",
    "    # group by original model\n",
    "    combined_results.loc[selected_rows, \"model\"] = model\n",
    "# delete unused rows\n",
    "combined_results = combined_results[combined_results[\"model\"].isin(models)]\n",
    "# plot the data\n",
    "plot_layer_chart(combined_results, title=\"SGD-Trained Models\", column=\"kurtosis\", split=\"modification\", transform=compose(add_values, functools.partial(draw_horizontal_line, y=3)))"
   ]
  },
  {
   "cell_type": "code",
   "execution_count": null,
   "metadata": {},
   "outputs": [],
   "source": [
    "# plot RMS\n",
    "plot_layer_chart(base_df, title=\"Small LLMs\", column=\"rms\")\n",
    "plot_layer_chart(large_df, title=\"Large LLMs\", column=\"rms\")\n",
    "plot_layer_chart(resnet_df, title=\"ResNets\", column=\"rms\")\n",
    "plot_layer_chart(sgd_df, title=\"SGD-Trained Models\", column=\"rms\")"
   ]
  },
  {
   "cell_type": "code",
   "execution_count": null,
   "metadata": {},
   "outputs": [],
   "source": [
    "def plot_accuracy(results: pd.DataFrame, title: str = None, num_classes: int = 10):\n",
    "    \"\"\"plot the accuracy of models with different layer ablations\"\"\"\n",
    "    # split into forward and backward accuracy\n",
    "    melted_results = pd.melt(results, id_vars=df.columns.difference([\"accuracy\", \"reversed-accuracy\"]), value_vars=[\"accuracy\", \"reversed-accuracy\"], var_name=\"direction\", value_name=\"score\")\n",
    "    # ignore models that didn't record accuracy\n",
    "    melted_results = melted_results.dropna(subset=[\"score\"])\n",
    "    # convert to percentage\n",
    "    melted_results[\"accuracy\"] = melted_results[\"score\"].apply(lambda scores: [score * 100 for score in scores])\n",
    "    # plot the data\n",
    "    plot_layer_chart(melted_results, title=title, column=\"accuracy\", split=\"direction\", transform=compose(functools.partial(draw_horizontal_line, y=100 / num_classes), add_values))"
   ]
  },
  {
   "cell_type": "code",
   "execution_count": null,
   "metadata": {},
   "outputs": [],
   "source": [
    "def reverse(series: pd.Series) -> pd.Series:\n",
    "    \"\"\"utility to reverse a list in a series\"\"\"\n",
    "    return series.map(compose(list, reversed), na_action=\"ignore\")"
   ]
  },
  {
   "cell_type": "code",
   "execution_count": null,
   "metadata": {},
   "outputs": [],
   "source": [
    "# plot text results\n",
    "base_df.loc[:, \"accuracy\"] = base_df[\"accuracy\"]\n",
    "base_df.loc[:, \"reversed-accuracy\"] = reverse(base_df[\"reversed-accuracy\"])\n",
    "plot_accuracy(base_df, title=\"Small LLMs\", num_classes=3)\n",
    "\n",
    "large_df.loc[:, \"accuracy\"] = large_df[\"accuracy\"]\n",
    "large_df.loc[:, \"reversed-accuracy\"] = reverse(large_df[\"reversed-accuracy\"])\n",
    "plot_accuracy(large_df, title=\"Large LLMs\", num_classes=3)\n",
    "\n",
    "# plot image results for top-1 and top-5\n",
    "resnet_df.loc[:, \"accuracy\"] = resnet_df[\"top1\"]\n",
    "resnet_df.loc[:, \"reversed-accuracy\"] = resnet_df[\"reversed-top1\"]\n",
    "plot_accuracy(resnet_df, title=\"ResNets\", num_classes=1000)\n",
    "\n",
    "resnet_df.loc[:, \"accuracy\"] = resnet_df[\"top5\"]\n",
    "resnet_df.loc[:, \"reversed-accuracy\"] = resnet_df[\"reversed-top5\"]\n",
    "plot_accuracy(resnet_df, title=\"ResNets\", num_classes=200)\n",
    "\n",
    "# plot results for models trained by sgd\n",
    "sgd_resnet_df = sgd_df[sgd_df[\"model\"].str.match(r\"resnet\\d+\")]\n",
    "sgd_resnet_df.loc[:,\"accuracy\"] = sgd_resnet_df[\"top5\"]\n",
    "plot_accuracy(sgd_resnet_df, title=\"SGD-Trained Models\", num_classes=200)\n",
    "plt.gcf().axes[0].get_legend().remove()"
   ]
  }
 ],
 "metadata": {
  "kernelspec": {
   "display_name": "Python 3 (ipykernel)",
   "language": "python",
   "name": "python3"
  },
  "language_info": {
   "codemirror_mode": {
    "name": "ipython",
    "version": 3
   },
   "file_extension": ".py",
   "mimetype": "text/x-python",
   "name": "python",
   "nbconvert_exporter": "python",
   "pygments_lexer": "ipython3",
   "version": "3.11.4"
  }
 },
 "nbformat": 4,
 "nbformat_minor": 2
}
