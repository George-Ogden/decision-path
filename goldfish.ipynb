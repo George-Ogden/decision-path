{
 "cells": [
  {
   "cell_type": "code",
   "execution_count": null,
   "metadata": {},
   "outputs": [],
   "source": [
    "import matplotlib.pyplot as plt\n",
    "import tensorflow as tf\n",
    "import numpy as np\n",
    "import cv2\n",
    "\n",
    "from preprocessing import preprocess_for_eval\n",
    "\n",
    "from IPython.display import Image, display\n",
    "from typing import Union\n",
    "from glob import glob\n",
    "\n",
    "%matplotlib inline"
   ]
  },
  {
   "cell_type": "code",
   "execution_count": null,
   "metadata": {},
   "outputs": [],
   "source": [
    "model_path = \"ResnetV2_50.pb\""
   ]
  },
  {
   "cell_type": "code",
   "execution_count": null,
   "metadata": {},
   "outputs": [],
   "source": [
    "images = [cv2.imread(filename, cv2.COLOR_BGR2RGB) for filename in glob(\"data/*.jpeg\")]\n",
    "with tf.compat.v1.Session() as sess:\n",
    "    images = np.stack([preprocess_for_eval(image, 224, 224, 256).eval() / 255 for image in images])\n",
    "images.shape"
   ]
  },
  {
   "cell_type": "code",
   "execution_count": null,
   "metadata": {},
   "outputs": [],
   "source": [
    "# Load the graph from the .pb file\n",
    "with tf.io.gfile.GFile(model_path, 'rb') as f:\n",
    "    graph_def = tf.compat.v1.GraphDef()\n",
    "    graph_def.ParseFromString(f.read())"
   ]
  },
  {
   "cell_type": "code",
   "execution_count": null,
   "metadata": {},
   "outputs": [],
   "source": [
    "with tf.compat.v1.Session() as sess:\n",
    "    # Set the graph as the default graph\n",
    "    tf.compat.v1.import_graph_def(graph_def, name='')\n",
    "    graph = sess.graph"
   ]
  },
  {
   "cell_type": "code",
   "execution_count": null,
   "metadata": {},
   "outputs": [],
   "source": [
    "def get_tensor(tensor_name: str) -> np.ndarray:\n",
    "    with tf.compat.v1.Session() as sess:\n",
    "        # Set the graph as the default graph\n",
    "        tf.compat.v1.import_graph_def(graph_def, name='')\n",
    "\n",
    "        # Get input and output tensors\n",
    "        input_tensor = sess.graph.get_tensor_by_name(\"input:0\")\n",
    "        output_tensor = sess.graph.get_tensor_by_name(tensor_name)\n",
    "\n",
    "        # Perform inference\n",
    "        input_data = images\n",
    "        return sess.run(output_tensor, feed_dict={input_tensor: input_data})"
   ]
  },
  {
   "cell_type": "code",
   "execution_count": null,
   "metadata": {},
   "outputs": [],
   "source": [
    "def get_images(tensor_name: str, feature_id: int) -> Image:\n",
    "    return Image(url=f\"https://openaipublic.blob.core.windows.net/microscopeprod/2020-07-25/2020-07-25/resnetv2_50_slim/lucid.dataset_examples/_dataset_examples/dataset%3Dimagenet%26op%3D{tensor_name.replace('/', '%252F')}%253A0/channel_{feature_id}_40.png\")"
   ]
  },
  {
   "cell_type": "code",
   "execution_count": null,
   "metadata": {},
   "outputs": [],
   "source": [
    "def to_op(tensor: Union[tf.Tensor, tf.Operation]) -> tf.Operation:\n",
    "    if isinstance(tensor, tf.Tensor):\n",
    "        return tensor.op\n",
    "    return tensor"
   ]
  },
  {
   "cell_type": "code",
   "execution_count": null,
   "metadata": {},
   "outputs": [],
   "source": [
    "def go_backwards(layer: Union[tf.Operation, str], num_layers: int=1) -> tf.Tensor:\n",
    "    if isinstance(layer, str):\n",
    "        layer = graph.get_operation_by_name(layer)\n",
    "    previous_layer = layer\n",
    "    for _ in range(num_layers):\n",
    "        previous_layer = list(to_op(previous_layer).inputs)[0]\n",
    "        print(previous_layer)\n",
    "    return to_op(previous_layer)\n"
   ]
  },
  {
   "cell_type": "code",
   "execution_count": null,
   "metadata": {},
   "outputs": [],
   "source": [
    "class_id = 2 # goldfish"
   ]
  },
  {
   "cell_type": "code",
   "execution_count": null,
   "metadata": {},
   "outputs": [],
   "source": [
    "graph.get_operations()[-10:]"
   ]
  },
  {
   "cell_type": "code",
   "execution_count": null,
   "metadata": {},
   "outputs": [],
   "source": [
    "logit_layer = \"resnet_v2_50/logits/BiasAdd\"\n",
    "list(graph.get_operation_by_name(logit_layer).inputs) "
   ]
  },
  {
   "cell_type": "code",
   "execution_count": null,
   "metadata": {},
   "outputs": [],
   "source": [
    "predictions = get_tensor(logit_layer + \":0\")\n",
    "predictions.shape"
   ]
  },
  {
   "cell_type": "code",
   "execution_count": null,
   "metadata": {},
   "outputs": [],
   "source": [
    "average_predictions = predictions[:, 0, 0, :].mean(0)\n",
    "plt.hist(average_predictions)\n",
    "top_5 = np.argsort(-average_predictions)[:5]\n",
    "top_5"
   ]
  },
  {
   "cell_type": "code",
   "execution_count": null,
   "metadata": {
    "scrolled": true
   },
   "outputs": [],
   "source": [
    "average_predictions[top_5]"
   ]
  },
  {
   "cell_type": "code",
   "execution_count": null,
   "metadata": {},
   "outputs": [],
   "source": [
    "(np.exp(average_predictions) / np.exp(average_predictions).sum())[top_5]"
   ]
  },
  {
   "cell_type": "code",
   "execution_count": null,
   "metadata": {},
   "outputs": [],
   "source": [
    "weights_output, bias_layer = graph.get_operation_by_name(logit_layer).inputs"
   ]
  },
  {
   "cell_type": "code",
   "execution_count": null,
   "metadata": {},
   "outputs": [],
   "source": [
    "weights = get_tensor(bias_layer.name)\n",
    "plt.hist(weights, bins=100)\n",
    "weights[class_id]"
   ]
  },
  {
   "cell_type": "code",
   "execution_count": null,
   "metadata": {},
   "outputs": [],
   "source": [
    "weights_layer = graph.get_operation_by_name(to_op(weights_output).name).inputs[1]\n",
    "weights_layer"
   ]
  },
  {
   "cell_type": "code",
   "execution_count": null,
   "metadata": {},
   "outputs": [],
   "source": [
    "weight_matrix = get_tensor(weights_layer.name)\n",
    "weight_matrix.shape"
   ]
  },
  {
   "cell_type": "code",
   "execution_count": null,
   "metadata": {},
   "outputs": [],
   "source": [
    "relevant_weights = weight_matrix[0, 0, :, class_id]\n",
    "ordering = (-relevant_weights).argsort()\n",
    "relevant_weights.min(), relevant_weights.max()"
   ]
  },
  {
   "cell_type": "code",
   "execution_count": null,
   "metadata": {},
   "outputs": [],
   "source": [
    "plt.hist(relevant_weights, bins=100)\n",
    "None"
   ]
  },
  {
   "cell_type": "code",
   "execution_count": null,
   "metadata": {},
   "outputs": [],
   "source": [
    "important_features = ordering[:5]\n",
    "important_features"
   ]
  },
  {
   "cell_type": "code",
   "execution_count": null,
   "metadata": {},
   "outputs": [],
   "source": [
    "relevant_weights[important_features]"
   ]
  },
  {
   "cell_type": "code",
   "execution_count": null,
   "metadata": {},
   "outputs": [],
   "source": [
    "main_feature = important_features[0]\n",
    "main_feature"
   ]
  },
  {
   "cell_type": "code",
   "execution_count": null,
   "metadata": {},
   "outputs": [],
   "source": [
    "pooling_layer = graph.get_operation_by_name(to_op(weights_output).name).inputs[0]\n",
    "pooling_layer"
   ]
  },
  {
   "cell_type": "code",
   "execution_count": null,
   "metadata": {},
   "outputs": [],
   "source": [
    "pooled_outputs = get_tensor(pooling_layer.name)\n",
    "pooled_outputs.shape"
   ]
  },
  {
   "cell_type": "code",
   "execution_count": null,
   "metadata": {},
   "outputs": [],
   "source": [
    "activations = pooled_outputs.mean(axis=0)[0, 0]\n",
    "ordering = np.argsort(-activations)\n",
    "plt.hist(activations)\n",
    "ordering[:5]"
   ]
  },
  {
   "cell_type": "code",
   "execution_count": null,
   "metadata": {},
   "outputs": [],
   "source": [
    "previous_layer = logit_layer\n",
    "batchnorm_layer = go_backwards(previous_layer, 4)"
   ]
  },
  {
   "cell_type": "code",
   "execution_count": null,
   "metadata": {},
   "outputs": [],
   "source": [
    "batchnorm_inputs = list(batchnorm_layer.inputs)\n",
    "batchnorm_inputs"
   ]
  },
  {
   "cell_type": "code",
   "execution_count": null,
   "metadata": {},
   "outputs": [],
   "source": [
    "previous_layer, *params = [get_tensor(layer.name) for layer in batchnorm_inputs]"
   ]
  },
  {
   "cell_type": "code",
   "execution_count": null,
   "metadata": {},
   "outputs": [],
   "source": [
    "fig, axs = plt.subplots(2, 2, figsize=(10, 10))\n",
    "axs = axs.flatten()\n",
    "for i, param in enumerate(params):\n",
    "    axs[i].hist(param.flatten(), bins=100)\n",
    "    axs[i].set_title(batchnorm_inputs[i+1].name)"
   ]
  },
  {
   "cell_type": "code",
   "execution_count": null,
   "metadata": {},
   "outputs": [],
   "source": [
    "gamma, beta, mean, variance = np.stack(params, axis=0)[:,main_feature]\n",
    "gamma, beta, mean, variance"
   ]
  },
  {
   "cell_type": "code",
   "execution_count": null,
   "metadata": {},
   "outputs": [],
   "source": [
    "f\"f(x) = {gamma:.2f} * (x {-mean:+.2f})/{variance:.2f} {beta:+.2f}\""
   ]
  },
  {
   "cell_type": "code",
   "execution_count": null,
   "metadata": {},
   "outputs": [],
   "source": [
    "gammas, betas, means, variances = np.stack(params, axis=0)\n",
    "expected_features = (np.ones_like(gammas) - means) / variances + betas\n",
    "plt.hist(expected_features, bins=100)\n",
    "None"
   ]
  },
  {
   "cell_type": "code",
   "execution_count": null,
   "metadata": {},
   "outputs": [],
   "source": [
    "expected_inputs = (np.ones_like(gammas) - means) / variances + betas\n",
    "expected_inputs = -betas * variances + means\n",
    "plt.hist(expected_inputs, bins=100)\n",
    "None"
   ]
  },
  {
   "cell_type": "code",
   "execution_count": null,
   "metadata": {},
   "outputs": [],
   "source": [
    "feature_layer = batchnorm_inputs[0].op.name\n",
    "for i in range(5):\n",
    "    display(get_images(feature_layer, important_features[i]))"
   ]
  },
  {
   "cell_type": "code",
   "execution_count": null,
   "metadata": {},
   "outputs": [],
   "source": [
    "display(get_images(feature_layer, ordering[-1]))"
   ]
  },
  {
   "cell_type": "code",
   "execution_count": null,
   "metadata": {},
   "outputs": [],
   "source": [
    "conv_out = batchnorm_inputs[0]\n",
    "conv_out"
   ]
  },
  {
   "cell_type": "code",
   "execution_count": null,
   "metadata": {},
   "outputs": [],
   "source": [
    "conv_inputs = list(to_op(conv_out).inputs)\n",
    "conv_inputs"
   ]
  },
  {
   "cell_type": "code",
   "execution_count": null,
   "metadata": {},
   "outputs": [],
   "source": [
    "previous_unit, current_layer = conv_inputs\n",
    "bias_add_inputs = list(go_backwards(current_layer).inputs)\n",
    "bias_add_inputs"
   ]
  },
  {
   "cell_type": "code",
   "execution_count": null,
   "metadata": {},
   "outputs": [],
   "source": [
    "bias_values = get_tensor(current_layer.name).flatten()\n",
    "plt.hist(bias_values, bins=100)\n",
    "bias_values[main_feature]"
   ]
  },
  {
   "cell_type": "code",
   "execution_count": null,
   "metadata": {},
   "outputs": [],
   "source": [
    "relu, conv_weights = bias_add_inputs\n",
    "conv_weights"
   ]
  },
  {
   "cell_type": "code",
   "execution_count": null,
   "metadata": {},
   "outputs": [],
   "source": [
    "relevant_weights = get_tensor(conv_weights.name)[0, 0, :, main_feature]\n",
    "plt.hist(relevant_weights, bins=100)\n",
    "ordering = (-relevant_weights).argsort()"
   ]
  },
  {
   "cell_type": "code",
   "execution_count": null,
   "metadata": {},
   "outputs": [],
   "source": [
    "important_features = ordering[:5]\n",
    "important_features"
   ]
  },
  {
   "cell_type": "code",
   "execution_count": null,
   "metadata": {},
   "outputs": [],
   "source": [
    "activations = get_tensor(relu.name)\n",
    "activations.shape"
   ]
  },
  {
   "cell_type": "code",
   "execution_count": null,
   "metadata": {},
   "outputs": [],
   "source": [
    "average_activations = activations.mean((0, 1, 2))\n",
    "plt.hist(average_activations, bins=100)\n",
    "ordering = (-average_activations).argsort()\n",
    "ordering[:5]"
   ]
  },
  {
   "cell_type": "code",
   "execution_count": null,
   "metadata": {},
   "outputs": [],
   "source": [
    "average_activations[ordering[:5]]"
   ]
  },
  {
   "cell_type": "code",
   "execution_count": null,
   "metadata": {},
   "outputs": [],
   "source": [
    "for i in range(5):\n",
    "    display(get_images(to_op(relu).name, important_features[i]))"
   ]
  },
  {
   "cell_type": "code",
   "execution_count": null,
   "metadata": {},
   "outputs": [],
   "source": [
    "for i in range(5):\n",
    "    display(get_images(to_op(relu).name, ordering[i]))"
   ]
  },
  {
   "cell_type": "code",
   "execution_count": null,
   "metadata": {},
   "outputs": [],
   "source": [
    "key_feature = important_features[2]\n",
    "key_feature"
   ]
  },
  {
   "cell_type": "code",
   "execution_count": null,
   "metadata": {},
   "outputs": [],
   "source": [
    "conv_in = go_backwards(conv_out)\n",
    "conv_in"
   ]
  },
  {
   "cell_type": "code",
   "execution_count": null,
   "metadata": {},
   "outputs": [],
   "source": [
    "skip, add = conv_inputs"
   ]
  }
 ],
 "metadata": {
  "kernelspec": {
   "display_name": "Python 3 (ipykernel)",
   "language": "python",
   "name": "python3"
  },
  "language_info": {
   "codemirror_mode": {
    "name": "ipython",
    "version": 3
   },
   "file_extension": ".py",
   "mimetype": "text/x-python",
   "name": "python",
   "nbconvert_exporter": "python",
   "pygments_lexer": "ipython3",
   "version": "3.7.16"
  }
 },
 "nbformat": 4,
 "nbformat_minor": 2
}
