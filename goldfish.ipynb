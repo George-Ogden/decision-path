{
 "cells": [
  {
   "cell_type": "code",
   "execution_count": null,
   "metadata": {},
   "outputs": [],
   "source": [
    "import tensorflow as tf\n",
    "import seaborn as sns\n",
    "import numpy as np\n",
    "import matplotlib\n",
    "\n",
    "from IPython.display import Image, display\n",
    "from typing import Union\n",
    "from glob import glob\n",
    "\n",
    "%matplotlib inline\n",
    "matplotlib.rcParams['figure.figsize'] = (20, 8)"
   ]
  },
  {
   "cell_type": "code",
   "execution_count": null,
   "metadata": {},
   "outputs": [],
   "source": [
    "model_path = \"ResnetV2_50.pb\"\n",
    "class_id = 773 # safety pin (classes are 1-indexed)"
   ]
  },
  {
   "cell_type": "code",
   "execution_count": null,
   "metadata": {},
   "outputs": [],
   "source": [
    "# Load the graph from the .pb file\n",
    "with tf.io.gfile.GFile(model_path, 'rb') as f:\n",
    "    graph_def = tf.compat.v1.GraphDef()\n",
    "    graph_def.ParseFromString(f.read())"
   ]
  },
  {
   "cell_type": "code",
   "execution_count": null,
   "metadata": {},
   "outputs": [],
   "source": [
    "with tf.compat.v1.Session() as sess:\n",
    "    # Set the graph as the default graph\n",
    "    tf.compat.v1.import_graph_def(graph_def, name='')\n",
    "    graph = sess.graph"
   ]
  },
  {
   "cell_type": "code",
   "execution_count": null,
   "metadata": {},
   "outputs": [],
   "source": [
    "def get_tensor(tensor_name: str) -> np.ndarray:\n",
    "    with tf.compat.v1.Session() as sess:\n",
    "        # Set the graph as the default graph\n",
    "        tf.compat.v1.import_graph_def(graph_def, name='')\n",
    "\n",
    "        # Get input and output tensors\n",
    "        input_tensor = sess.graph.get_tensor_by_name(\"input:0\")\n",
    "        output_tensor = sess.graph.get_tensor_by_name(tensor_name)\n",
    "\n",
    "        # Perform inference\n",
    "        input_data = np.random.randn(1, 224, 224, 3)\n",
    "        return sess.run(output_tensor, feed_dict={input_tensor: input_data})"
   ]
  },
  {
   "cell_type": "code",
   "execution_count": null,
   "metadata": {},
   "outputs": [],
   "source": [
    "def get_images(tensor_name: str, feature_id: int) -> Image:\n",
    "    return Image(url=f\"https://openaipublic.blob.core.windows.net/microscopeprod/2020-07-25/2020-07-25/resnetv2_50_slim/lucid.dataset_examples/_dataset_examples/dataset%3Dimagenet%26op%3D{tensor_name.replace('/', '%252F')}%253A0/channel_{feature_id}_40.png\")"
   ]
  },
  {
   "cell_type": "code",
   "execution_count": null,
   "metadata": {},
   "outputs": [],
   "source": [
    "def to_op(tensor: Union[tf.Tensor, tf.Operation]) -> tf.Operation:\n",
    "    if isinstance(tensor, tf.Tensor):\n",
    "        return tensor.op\n",
    "    return tensor"
   ]
  },
  {
   "cell_type": "code",
   "execution_count": null,
   "metadata": {},
   "outputs": [],
   "source": [
    "def go_backwards(layer: Union[tf.Operation, str], num_layers: int=1) -> tf.Tensor:\n",
    "    if isinstance(layer, str):\n",
    "        layer = graph.get_operation_by_name(layer)\n",
    "    previous_layer = layer\n",
    "    for _ in range(num_layers):\n",
    "        previous_layer = list(to_op(previous_layer).inputs)[0]\n",
    "        print(previous_layer)\n",
    "    return to_op(previous_layer)\n"
   ]
  },
  {
   "cell_type": "code",
   "execution_count": null,
   "metadata": {},
   "outputs": [],
   "source": [
    "graph.get_operations()[-10:]"
   ]
  },
  {
   "cell_type": "code",
   "execution_count": null,
   "metadata": {},
   "outputs": [],
   "source": [
    "output = graph.get_operations()[-1]\n",
    "linear_layer = go_backwards(output, 5)\n",
    "linear_layer"
   ]
  },
  {
   "cell_type": "code",
   "execution_count": null,
   "metadata": {},
   "outputs": [],
   "source": [
    "list(linear_layer.inputs)"
   ]
  },
  {
   "cell_type": "code",
   "execution_count": null,
   "metadata": {},
   "outputs": [],
   "source": [
    "weight_matrix = get_tensor(linear_layer.inputs[1].name)\n",
    "weight_matrix.shape"
   ]
  },
  {
   "cell_type": "code",
   "execution_count": null,
   "metadata": {},
   "outputs": [],
   "source": [
    "relevant_weights = weight_matrix[0, 0, :, class_id]\n",
    "ordering = (-relevant_weights).argsort()\n",
    "relevant_weights.min(), relevant_weights.max()"
   ]
  },
  {
   "cell_type": "code",
   "execution_count": null,
   "metadata": {},
   "outputs": [],
   "source": [
    "sns.histplot(relevant_weights, bins=100)\n",
    "None"
   ]
  },
  {
   "cell_type": "code",
   "execution_count": null,
   "metadata": {},
   "outputs": [],
   "source": [
    "important_features = ordering[:5]\n",
    "important_features"
   ]
  },
  {
   "cell_type": "code",
   "execution_count": null,
   "metadata": {},
   "outputs": [],
   "source": [
    "relevant_weights[important_features]"
   ]
  },
  {
   "cell_type": "code",
   "execution_count": null,
   "metadata": {},
   "outputs": [],
   "source": [
    "main_feature = important_features[0]\n",
    "main_feature"
   ]
  },
  {
   "cell_type": "code",
   "execution_count": null,
   "metadata": {},
   "outputs": [],
   "source": [
    "residual_stream = go_backwards(linear_layer, 4)\n",
    "residual_stream"
   ]
  },
  {
   "cell_type": "code",
   "execution_count": null,
   "metadata": {},
   "outputs": [],
   "source": [
    "display(get_images(residual_stream.name, main_feature))"
   ]
  },
  {
   "cell_type": "code",
   "execution_count": null,
   "metadata": {},
   "outputs": [],
   "source": [
    "residual_stream = go_backwards(residual_stream)\n",
    "residual_stream"
   ]
  },
  {
   "cell_type": "code",
   "execution_count": null,
   "metadata": {},
   "outputs": [],
   "source": [
    "display(get_images(residual_stream.name, main_feature))"
   ]
  },
  {
   "cell_type": "code",
   "execution_count": null,
   "metadata": {},
   "outputs": [],
   "source": [
    "residual_stream = go_backwards(residual_stream)\n",
    "residual_stream"
   ]
  },
  {
   "cell_type": "code",
   "execution_count": null,
   "metadata": {},
   "outputs": [],
   "source": [
    "display(get_images(residual_stream.name, main_feature))"
   ]
  }
 ],
 "metadata": {
  "kernelspec": {
   "display_name": "Python 3 (ipykernel)",
   "language": "python",
   "name": "python3"
  },
  "language_info": {
   "codemirror_mode": {
    "name": "ipython",
    "version": 3
   },
   "file_extension": ".py",
   "mimetype": "text/x-python",
   "name": "python",
   "nbconvert_exporter": "python",
   "pygments_lexer": "ipython3",
   "version": "3.7.16"
  }
 },
 "nbformat": 4,
 "nbformat_minor": 2
}
