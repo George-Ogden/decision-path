{
 "cells": [
  {
   "cell_type": "code",
   "execution_count": null,
   "metadata": {},
   "outputs": [],
   "source": [
    "from matplotlib.image import NonUniformImage\n",
    "import matplotlib.pyplot as plt\n",
    "from glob import glob\n",
    "import seaborn as sns\n",
    "import pandas as pd\n",
    "import numpy as np\n",
    "import matplotlib\n",
    "import json\n",
    "import re\n",
    "\n",
    "sns.set_theme(style=\"darkgrid\")\n",
    "matplotlib.rcParams['figure.figsize'] = (20, 10)\n",
    "\n",
    "%matplotlib inline"
   ]
  },
  {
   "cell_type": "code",
   "execution_count": null,
   "metadata": {},
   "outputs": [],
   "source": [
    "results_files = sorted(glob(f\"results/*.json\"))\n",
    "all_results = []\n",
    "layers = {}\n",
    "for file in results_files:\n",
    "    with open(file, \"r\") as f:\n",
    "        results = json.load(f)\n",
    "    model = re.search(r\"results/(.*?).json\", file).group(1)\n",
    "    layers[model] = results.pop(\"layers\")\n",
    "    for task_name, problem in results.items():\n",
    "        all_results.append({\n",
    "            \"task\": task_name,\n",
    "            \"model\": model,\n",
    "            \"model/task\": f\"{model}/{task_name}\"}\n",
    "            |\n",
    "            {\n",
    "                problem_name: np.array(values)\n",
    "                for problem_name, values in problem.items()\n",
    "            }\n",
    "        )\n",
    "df = pd.DataFrame(all_results)\n",
    "df.head()"
   ]
  },
  {
   "cell_type": "code",
   "execution_count": null,
   "metadata": {},
   "outputs": [],
   "source": [
    "resnet_df = df[df[\"model\"].str.match(r\"resnet\\d+\")]\n",
    "base_df = df[df[\"model\"].str.match(r\"[a-z0-9]+-base\")]\n",
    "large_df = df[df[\"model\"].str.match(r\"[a-z0-9]+-large\")]"
   ]
  },
  {
   "cell_type": "code",
   "execution_count": null,
   "metadata": {},
   "outputs": [],
   "source": [
    "def activations(results: pd.DataFrame, title: str = None):\n",
    "    tasks = results[\"task\"].unique()\n",
    "    models = results[\"model\"].unique()\n",
    "    num_tasks = len(tasks)\n",
    "    num_models = len(models)\n",
    "    fig, axes = plt.subplots(num_tasks * num_models)\n",
    "    for i, task in enumerate(tasks):\n",
    "        for j, model in enumerate(models):\n",
    "            df = results[(results[\"task\"] == task) & (results[\"model\"] == model)]\n",
    "            activations = df.squeeze(0)[\"RMS\"]\n",
    "            activations = np.log(activations + 1e-30)\n",
    "            Y, X = activations.shape\n",
    "            x = np.linspace(0, 1, X)\n",
    "            y = np.linspace(0, 1, Y)\n",
    "            ax = axes[i + j * num_tasks]\n",
    "            image = NonUniformImage(ax, interpolation=\"nearest\", cmap=\"hot\", extent=(0, 1, 0, 1))\n",
    "            image.set_data(A=activations, x=x, y=y)\n",
    "            ax.add_image(image)\n",
    "            ax.set_title(f\"{task}/{model}\")\n",
    "            ax.set_xticks([])\n",
    "            ax.set_yticks([])\n",
    "    fig.suptitle(title)\n"
   ]
  },
  {
   "cell_type": "code",
   "execution_count": null,
   "metadata": {},
   "outputs": [],
   "source": [
    "# plot_channels(resnet_df, title=\"resnet\")\n",
    "plot_channels(base_df, title=\"base\")\n",
    "plot_channels(large_df, title=\"large\")"
   ]
  },
  {
   "cell_type": "code",
   "execution_count": null,
   "metadata": {},
   "outputs": [],
   "source": [
    "def plot_counts(results: pd.DataFrame, title: str = None):\n",
    "    tasks = results[\"task\"].unique()\n",
    "    models = results[\"model\"].unique()\n",
    "    fig, axes = plt.subplots(len(models))\n",
    "    channel_counts = []\n",
    "    for task in tasks:\n",
    "        for model in models:\n",
    "            outliers = results[(results[\"task\"] == task) & (results[\"model\"] == model)]\n",
    "            outliers = outliers.squeeze(0)[\"outliers\"]\n",
    "            for layer, proportion in enumerate(outliers):\n",
    "                channel_counts.append({\n",
    "                    \"task\": task,\n",
    "                    \"model\": model,\n",
    "                    \"layer\": layer,\n",
    "                    \"percent\": proportion * 100\n",
    "                })\n",
    "    channel_counts = pd.DataFrame(channel_counts)\n",
    "\n",
    "    for i, model in enumerate(models):\n",
    "        ax = axes[i] if len(models) > 1 else axes\n",
    "        sns.barplot(channel_counts[channel_counts[\"model\"] == model], x=\"layer\", y=\"percent\", hue=\"task\", ax=ax)\n",
    "        ax.set_title(model)\n",
    "        ax.set_xlabel(\"\")\n",
    "    plt.suptitle(title)\n"
   ]
  },
  {
   "cell_type": "code",
   "execution_count": null,
   "metadata": {},
   "outputs": [],
   "source": [
    "plot_counts(base_df, title=\"base\")\n",
    "plot_counts(large_df, title=\"large\")"
   ]
  },
  {
   "cell_type": "code",
   "execution_count": null,
   "metadata": {},
   "outputs": [],
   "source": [
    "def plot_kurtosis(results: pd.DataFrame, title: str = None):\n",
    "    tasks = results[\"task\"].unique()\n",
    "    models = results[\"model\"].unique()\n",
    "    fig, axes = plt.subplots(len(models))\n",
    "    channel_counts = []\n",
    "    for task in tasks:\n",
    "        for model in models:\n",
    "            kurtoses = results[(results[\"task\"] == task) & (results[\"model\"] == model)]\n",
    "            kurtosis = kurtoses.squeeze(0)[\"kurtosis\"]\n",
    "            rotated_kurtosis = kurtoses.squeeze(0)[\"rotated_kurtosis\"]\n",
    "            for layer, (value, rotated_value) in enumerate(zip(kurtosis, rotated_kurtosis)):\n",
    "                channel_counts.append({\n",
    "                    \"task\": task,\n",
    "                    \"type\": \"unrotated\",\n",
    "                    \"model\": model, \n",
    "                    \"layer\": layer,\n",
    "                    \"kurtosis\": value,\n",
    "                })\n",
    "                channel_counts.append({\n",
    "                    \"task\": task,\n",
    "                    \"type\": \"rotated\",\n",
    "                    \"model\": model, \n",
    "                    \"layer\": layer,\n",
    "                    \"kurtosis\": rotated_value,\n",
    "                })\n",
    "    channel_counts = pd.DataFrame(channel_counts)\n",
    "\n",
    "    for i, model in enumerate(models):\n",
    "        ax = axes[i] if len(models) > 1 else axes\n",
    "        _ = sns.barplot(channel_counts[channel_counts[\"model\"] == model], x=\"layer\", y=\"kurtosis\", hue=\"type\", ax=ax)\n",
    "\n",
    "        for bar, line in zip(ax.patches, ax.lines):\n",
    "            x = bar.get_x()\n",
    "            width = bar.get_width()\n",
    "            height = bar.get_height()\n",
    "            y = max(line.get_ydata())\n",
    "\n",
    "            ax.text(x + width / 2., y + 10, f\"{height:.{int(height < 10)}f}\", ha=\"center\", va=\"bottom\", size=10)\n",
    "\n",
    "        ax.set_title(model)\n",
    "        ax.set_xlabel(\"\")\n",
    "    plt.suptitle(title)"
   ]
  },
  {
   "cell_type": "code",
   "execution_count": null,
   "metadata": {},
   "outputs": [],
   "source": [
    "plot_kurtosis(base_df, title=\"base\")\n",
    "plot_kurtosis(large_df, title=\"large\")"
   ]
  }
 ],
 "metadata": {
  "kernelspec": {
   "display_name": "huggingface",
   "language": "python",
   "name": "python3"
  },
  "language_info": {
   "codemirror_mode": {
    "name": "ipython",
    "version": 3
   },
   "file_extension": ".py",
   "mimetype": "text/x-python",
   "name": "python",
   "nbconvert_exporter": "python",
   "pygments_lexer": "ipython3",
   "version": "3.11.4"
  },
  "orig_nbformat": 4
 },
 "nbformat": 4,
 "nbformat_minor": 2
}
