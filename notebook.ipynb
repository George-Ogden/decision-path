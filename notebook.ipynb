{
 "cells": [
  {
   "cell_type": "code",
   "execution_count": null,
   "metadata": {},
   "outputs": [],
   "source": [
    "from sklearn.decomposition import PCA\n",
    "import matplotlib.pyplot as plt\n",
    "import seaborn as sns\n",
    "import pandas as pd\n",
    "import numpy as np\n",
    "import matplotlib\n",
    "import einops\n",
    "\n",
    "from glob import glob\n",
    "import functools\n",
    "import json\n",
    "import os\n",
    "import re\n",
    "\n",
    "sns.set_theme(style=\"darkgrid\", context=\"notebook\", palette=sns.color_palette(\"rocket\", 4))\n",
    "matplotlib.rcParams['figure.figsize'] = (20, 10)\n",
    "\n",
    "%matplotlib inline"
   ]
  },
  {
   "cell_type": "code",
   "execution_count": null,
   "metadata": {},
   "outputs": [],
   "source": [
    "# load all results\n",
    "results_dirs = sorted(glob(f\"results/g*\"))\n",
    "results_arrays = {file: np.load(file) for file in glob(f\"results/**/*.npz\", recursive=True)}\n",
    "all_results = []\n",
    "for dir in results_dirs:\n",
    "    # read json\n",
    "    file = os.path.join(dir, \"metrics.json\")\n",
    "    with open(file) as f:\n",
    "        results = json.load(f)\n",
    "    # extract the model name from the filename\n",
    "    model = re.search(r\"results/(.*)/?\", dir).group(1)\n",
    "    # save layers without breaking df\n",
    "    for task_name, problem in results.items():\n",
    "        # add the data to the results (to be turned into df)\n",
    "        all_results.append({\n",
    "            \"task\": task_name,\n",
    "            \"model\": model,\n",
    "            \"task/model\": f\"{task_name}/{model}\",\n",
    "            } | {\n",
    "                # keep attributes as arrays\n",
    "                problem_name: array\n",
    "                for problem_name, array in problem.items()\n",
    "            }\n",
    "        )\n",
    "df = pd.DataFrame(all_results)\n",
    "df.head()"
   ]
  },
  {
   "cell_type": "code",
   "execution_count": null,
   "metadata": {},
   "outputs": [],
   "source": [
    "# generic compose function\n",
    "compose = lambda *F: functools.reduce(lambda f, g: lambda x: f(g(x)), F)"
   ]
  },
  {
   "cell_type": "code",
   "execution_count": null,
   "metadata": {},
   "outputs": [],
   "source": [
    "def plot_path(results: pd.DataFrame, title: str, key: str = \"path\", split_key=\"task/model\", transform=None):\n",
    "    splits = results[split_key].unique()\n",
    "    fig, axes = plt.subplots(len(splits))\n",
    "    fig.tight_layout(rect=[0, 0.03, 1, 0.95])\n",
    "    data = []\n",
    "    for split in splits:\n",
    "        results_filename = results.loc[results[split_key] == split].iloc[0].loc[key]\n",
    "        path = results_arrays[results_filename][key]\n",
    "        flattened_path, shape = einops.pack(path, \"* h\")\n",
    "        pca = PCA(2)\n",
    "        flattened_path = pca.fit_transform(flattened_path)\n",
    "        path = einops.unpack(flattened_path, shape, \"* h\")\n",
    "        for i, sample in enumerate(path):\n",
    "            for j, layer in enumerate(sample):\n",
    "                data.append({\n",
    "                    \"split\": split,\n",
    "                    \"layer\": j,\n",
    "                    \"x\": layer[0],\n",
    "                    \"y\": layer[1],\n",
    "                    \"sample\": i\n",
    "                })\n",
    "            if i > 10:\n",
    "                break\n",
    "\n",
    "    # convert results to a dataframe\n",
    "    data = pd.DataFrame(data)\n",
    "\n",
    "    # plot results on each axis\n",
    "    for i, split in enumerate(splits):\n",
    "        ax = axes[i] if len(splits) > 1 else axes\n",
    "        # plot a line\n",
    "        sns.lineplot(data=data[data[\"split\"] == split], x=\"x\", y=\"y\", hue=\"sample\", ax=ax, legend=False)\n",
    "        # perform a transform to the axis\n",
    "        if transform is not None:\n",
    "            transform(ax)\n",
    "        ax.set_title(split)\n",
    "        ax.set_xlabel(\"\")\n",
    "    plt.suptitle(title)\n"
   ]
  },
  {
   "cell_type": "code",
   "execution_count": null,
   "metadata": {},
   "outputs": [],
   "source": [
    "plot_path(df, \"Path\")"
   ]
  }
 ],
 "metadata": {
  "kernelspec": {
   "display_name": "Python 3 (ipykernel)",
   "language": "python",
   "name": "python3"
  },
  "language_info": {
   "codemirror_mode": {
    "name": "ipython",
    "version": 3
   },
   "file_extension": ".py",
   "mimetype": "text/x-python",
   "name": "python",
   "nbconvert_exporter": "python",
   "pygments_lexer": "ipython3",
   "version": "3.10.13"
  }
 },
 "nbformat": 4,
 "nbformat_minor": 2
}
