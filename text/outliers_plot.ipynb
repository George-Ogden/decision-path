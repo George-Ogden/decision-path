{
 "cells": [
  {
   "cell_type": "code",
   "execution_count": null,
   "metadata": {},
   "outputs": [],
   "source": [
    "from matplotlib.image import NonUniformImage\n",
    "import matplotlib.pyplot as plt\n",
    "from glob import glob\n",
    "import seaborn as sns\n",
    "import pandas as pd\n",
    "import numpy as np\n",
    "import matplotlib\n",
    "import json\n",
    "import re\n",
    "\n",
    "sns.set_theme(style=\"darkgrid\")\n",
    "matplotlib.rcParams['figure.figsize'] = (20, 10)\n",
    "\n",
    "%matplotlib inline"
   ]
  },
  {
   "cell_type": "code",
   "execution_count": null,
   "metadata": {},
   "outputs": [],
   "source": [
    "def load_results_df(key: str) -> pd.DataFrame:\n",
    "    results_files = glob(f\"results_*-{key}.json\")\n",
    "    all_results = []\n",
    "    for file in results_files:\n",
    "        with open(file, \"r\") as f:\n",
    "            results = json.load(f)\n",
    "        model = re.search(r\"results_(.*?).json\", file).group(1)\n",
    "        for task, values in results.items():\n",
    "            all_results.append({\n",
    "                \"task\": task,\n",
    "                \"model\": model,\n",
    "                \"task/model\": f\"{task}/{model}\",\n",
    "                \"activations\": np.array(values)\n",
    "            })\n",
    "    return pd.DataFrame(all_results)"
   ]
  },
  {
   "cell_type": "code",
   "execution_count": null,
   "metadata": {},
   "outputs": [],
   "source": [
    "base_results = load_results_df(\"base\")\n",
    "large_results = load_results_df(\"large\")\n",
    "base_results.head()"
   ]
  },
  {
   "cell_type": "code",
   "execution_count": null,
   "metadata": {},
   "outputs": [],
   "source": [
    "def plot_channels(results: pd.DataFrame, title: str = None):\n",
    "    tasks = results[\"task\"].unique()\n",
    "    models = results[\"model\"].unique()\n",
    "    num_tasks = len(tasks)\n",
    "    num_models = len(models)\n",
    "    fig, axes = plt.subplots(num_tasks * num_models)\n",
    "    for i, task in enumerate(tasks):\n",
    "        for j, model in enumerate(models):\n",
    "            df = results[(results[\"task\"] == task) & (results[\"model\"] == model)]\n",
    "            activations = df.squeeze(0)[\"activations\"]\n",
    "            activations = np.log(activations + 1e-30)\n",
    "            Y, X = activations.shape\n",
    "            x = np.linspace(0, 1, X)\n",
    "            y = np.linspace(0, 1, Y)\n",
    "            ax = axes[i + j * num_tasks]\n",
    "            image = NonUniformImage(ax, interpolation=\"nearest\", cmap=\"hot\", extent=(0, 1, 0, 1))\n",
    "            image.set_data(A=activations, x=x, y=y)\n",
    "            ax.add_image(image)\n",
    "            ax.set_title(f\"{task}/{model}\")\n",
    "            ax.set_xticks([])\n",
    "            ax.set_yticks([])\n",
    "    fig.suptitle(title)\n"
   ]
  },
  {
   "cell_type": "code",
   "execution_count": null,
   "metadata": {},
   "outputs": [],
   "source": [
    "plot_channels(base_results, title=\"base\")\n",
    "plot_channels(large_results, title=\"large\")"
   ]
  },
  {
   "cell_type": "code",
   "execution_count": null,
   "metadata": {},
   "outputs": [],
   "source": [
    "def plot_counts(results: pd.DataFrame, title: str = None):\n",
    "    tasks = results[\"task\"].unique()\n",
    "    models = results[\"model\"].unique()\n",
    "    fig, axes = plt.subplots(len(models))\n",
    "    channel_counts = []\n",
    "    for task in tasks:\n",
    "        for model in models:\n",
    "            activations = results[(results[\"task\"] == task) & (results[\"model\"] == model)]\n",
    "            activations = activations.squeeze(0)[\"activations\"]\n",
    "            activations = (activations > 0).sum(axis=1)\n",
    "            for layer, count in enumerate(activations):\n",
    "                channel_counts.append({\n",
    "                    \"task\": task,\n",
    "                    \"model\": model,\n",
    "                    \"layer\": layer,\n",
    "                    \"count\": count\n",
    "                })\n",
    "    channel_counts = pd.DataFrame(channel_counts)\n",
    "\n",
    "    for i, model in enumerate(models):\n",
    "        ax = axes[i] if len(models) > 1 else axes\n",
    "        sns.barplot(channel_counts[channel_counts[\"model\"] == model], x=\"layer\", y=\"count\", hue=\"task\", ax=ax)\n",
    "        ax.set_title(model)\n",
    "        ax.set_xlabel(\"\")\n",
    "    plt.suptitle(title)\n"
   ]
  },
  {
   "cell_type": "code",
   "execution_count": null,
   "metadata": {},
   "outputs": [],
   "source": [
    "plot_counts(base_results, title=\"base\")\n",
    "plot_counts(large_results, title=\"large\")"
   ]
  }
 ],
 "metadata": {
  "kernelspec": {
   "display_name": "huggingface",
   "language": "python",
   "name": "python3"
  },
  "language_info": {
   "codemirror_mode": {
    "name": "ipython",
    "version": 3
   },
   "file_extension": ".py",
   "mimetype": "text/x-python",
   "name": "python",
   "nbconvert_exporter": "python",
   "pygments_lexer": "ipython3",
   "version": "3.10.8"
  },
  "orig_nbformat": 4
 },
 "nbformat": 4,
 "nbformat_minor": 2
}
