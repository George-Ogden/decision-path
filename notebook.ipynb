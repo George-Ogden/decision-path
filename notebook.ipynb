{
 "cells": [
  {
   "cell_type": "code",
   "execution_count": null,
   "metadata": {},
   "outputs": [],
   "source": [
    "import matplotlib.pyplot as plt\n",
    "import seaborn as sns\n",
    "import pandas as pd\n",
    "import numpy as np\n",
    "import matplotlib\n",
    "\n",
    "from glob import glob\n",
    "import functools\n",
    "import json\n",
    "import re\n",
    "\n",
    "sns.set_theme(style=\"darkgrid\")\n",
    "matplotlib.rcParams['figure.figsize'] = (20, 10)\n",
    "\n",
    "%matplotlib inline"
   ]
  },
  {
   "cell_type": "code",
   "execution_count": null,
   "metadata": {},
   "outputs": [],
   "source": [
    "results_files = sorted(glob(f\"results/*.json\"))\n",
    "all_results = []\n",
    "layers = {}\n",
    "for file in results_files:\n",
    "    with open(file, \"r\") as f:\n",
    "        results = json.load(f)\n",
    "    model = re.search(r\"results/(.*?).json\", file).group(1)\n",
    "    layers[model] = results.pop(\"layers\")\n",
    "    for task_name, problem in results.items():\n",
    "        all_results.append({\n",
    "            \"task\": task_name,\n",
    "            \"model\": model,\n",
    "            \"model/task\": f\"{model}/{task_name}\"}\n",
    "            |\n",
    "            {\n",
    "                problem_name: np.array(values)\n",
    "                for problem_name, values in problem.items()\n",
    "            }\n",
    "        )\n",
    "df = pd.DataFrame(all_results)\n",
    "df.head()"
   ]
  },
  {
   "cell_type": "code",
   "execution_count": null,
   "metadata": {},
   "outputs": [],
   "source": [
    "df[\"percent\"] = df[\"outliers\"] * 100"
   ]
  },
  {
   "cell_type": "code",
   "execution_count": null,
   "metadata": {},
   "outputs": [],
   "source": [
    "resnet_df = df[df[\"model\"].str.match(r\"resnet\\d+\")]\n",
    "base_df = df[df[\"model\"].str.match(r\"[a-z0-9]+-base\")]\n",
    "large_df = df[df[\"model\"].str.match(r\"[a-z0-9]+-large\")]"
   ]
  },
  {
   "cell_type": "code",
   "execution_count": null,
   "metadata": {},
   "outputs": [],
   "source": [
    "def plot_layer_chart(results: pd.DataFrame, column: str, title: str = None, split=\"task\", transform=None):\n",
    "    splits = results[split].unique()\n",
    "    models = results[\"model\"].unique()\n",
    "    fig, axes = plt.subplots(len(models))\n",
    "    data = []\n",
    "    for pivot in splits:\n",
    "        for model in models:\n",
    "            sub_df = results[(results[split] == pivot) & (results[\"model\"] == model)]\n",
    "            for i, row in sub_df.iterrows():\n",
    "                values = row[column]\n",
    "                for layer, value in enumerate(values):\n",
    "                    data.append({\n",
    "                        split: pivot,\n",
    "                        \"model\": model,\n",
    "                        \"layer\": layer,\n",
    "                        column: value\n",
    "                    })\n",
    "    data = pd.DataFrame(data)\n",
    "\n",
    "    for i, model in enumerate(models):\n",
    "        ax = axes[i] if len(models) > 1 else axes\n",
    "        sns.barplot(data[data[\"model\"] == model], x=\"layer\", y=column, hue=split, ax=ax)\n",
    "        if transform is not None:\n",
    "            transform(ax)\n",
    "        ax.set_title(model)\n",
    "        ax.set_xlabel(\"\")\n",
    "    plt.suptitle(title)\n"
   ]
  },
  {
   "cell_type": "code",
   "execution_count": null,
   "metadata": {},
   "outputs": [],
   "source": [
    "def add_values(ax: plt.Axes, buffer: float = 10):\n",
    "    for bar, line in zip(ax.patches, ax.lines):\n",
    "        x = bar.get_x()\n",
    "        width = bar.get_width()\n",
    "        height = bar.get_height()\n",
    "        y = max(line.get_ydata())\n",
    "\n",
    "        ax.text(x + width / 2., y + buffer, f\"{height:.{int(height < 10)}f}\", ha=\"center\", va=\"bottom\", size=10)"
   ]
  },
  {
   "cell_type": "code",
   "execution_count": null,
   "metadata": {},
   "outputs": [],
   "source": [
    "def draw_horizontal_line(ax: plt.Axes, y: float):\n",
    "    ax.axhline(y=y, color=\"red\", linestyle=\"--\", linewidth=1)"
   ]
  },
  {
   "cell_type": "code",
   "execution_count": null,
   "metadata": {},
   "outputs": [],
   "source": [
    "plot_layer_chart(base_df, title=\"base\", column=\"percent\")\n",
    "plot_layer_chart(large_df, title=\"large\", column=\"percent\")"
   ]
  },
  {
   "cell_type": "code",
   "execution_count": null,
   "metadata": {},
   "outputs": [],
   "source": [
    "plot_layer_chart(base_df, title=\"base\", column=\"kurtosis\", transform=functools.partial(draw_horizontal_line, y=3))\n",
    "plot_layer_chart(large_df, title=\"large\", column=\"kurtosis\", transform=functools.partial(draw_horizontal_line, y=3))"
   ]
  },
  {
   "cell_type": "code",
   "execution_count": null,
   "metadata": {},
   "outputs": [],
   "source": [
    "def plot_kurtosis(results: pd.DataFrame, title: str = None):\n",
    "    melted_results = pd.melt(results, id_vars=df.columns.difference([\"kurtosis\", \"rotated-kurtosis\"]), value_vars=[\"kurtosis\", \"rotated-kurtosis\"], var_name=\"type\", value_name=\"value\")\n",
    "    melted_results[\"kurtosis\"] = melted_results[\"value\"]\n",
    "    plot_layer_chart(melted_results, title=title, column=\"value\", split=\"type\", transform=lambda ax: add_values(ax) or draw_horizontal_line(ax, 3))"
   ]
  },
  {
   "cell_type": "code",
   "execution_count": null,
   "metadata": {},
   "outputs": [],
   "source": [
    "plot_kurtosis(base_df, title=\"base\")\n",
    "plot_kurtosis(large_df, title=\"large\")"
   ]
  },
  {
   "cell_type": "code",
   "execution_count": null,
   "metadata": {},
   "outputs": [],
   "source": [
    "plot_layer_chart(base_df, title=\"base\", column=\"rms\")\n",
    "plot_layer_chart(large_df, title=\"large\", column=\"rms\")"
   ]
  },
  {
   "cell_type": "code",
   "execution_count": null,
   "metadata": {},
   "outputs": [],
   "source": [
    "def plot_accuracy(results: pd.DataFrame, title: str = None, num_classes: int = 10):\n",
    "    results.loc[:, \"accuracy\"] = results[\"accuracy\"].map(lambda accuracies: reversed(accuracies) if isinstance(accuracies, list) else accuracies)\n",
    "    melted_results = pd.melt(results, id_vars=df.columns.difference([\"accuracy\", \"reversed-accuracy\"]), value_vars=[\"accuracy\", \"reversed-accuracy\"], var_name=\"direction\", value_name=\"score\")\n",
    "    melted_results = melted_results.dropna(subset=[\"score\"])\n",
    "    melted_results[\"accuracy\"] = melted_results[\"score\"] * 100\n",
    "    plot_layer_chart(melted_results, title=title, column=\"accuracy\", split=\"direction\", transform=lambda ax: add_values(ax, buffer=2) or draw_horizontal_line(ax, 100 / num_classes))"
   ]
  },
  {
   "cell_type": "code",
   "execution_count": null,
   "metadata": {},
   "outputs": [],
   "source": [
    "plot_accuracy(base_df, title=\"base\", num_classes=3)\n",
    "plot_accuracy(large_df, title=\"large\", num_classes=3)"
   ]
  }
 ],
 "metadata": {
  "kernelspec": {
   "display_name": "huggingface",
   "language": "python",
   "name": "python3"
  },
  "language_info": {
   "codemirror_mode": {
    "name": "ipython",
    "version": 3
   },
   "file_extension": ".py",
   "mimetype": "text/x-python",
   "name": "python",
   "nbconvert_exporter": "python",
   "pygments_lexer": "ipython3",
   "version": "3.11.4"
  },
  "orig_nbformat": 4
 },
 "nbformat": 4,
 "nbformat_minor": 2
}
