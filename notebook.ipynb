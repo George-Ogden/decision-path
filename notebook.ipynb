{
 "cells": [
  {
   "cell_type": "code",
   "execution_count": null,
   "metadata": {},
   "outputs": [],
   "source": [
    "import matplotlib.pyplot as plt\n",
    "import seaborn as sns\n",
    "import pandas as pd\n",
    "import numpy as np\n",
    "import matplotlib\n",
    "\n",
    "from glob import glob\n",
    "import functools\n",
    "import json\n",
    "import re\n",
    "\n",
    "sns.set_theme(style=\"darkgrid\", context=\"notebook\", palette=sns.color_palette(\"rocket\", 4))\n",
    "matplotlib.rcParams['figure.figsize'] = (20, 10)\n",
    "\n",
    "%matplotlib inline"
   ]
  },
  {
   "cell_type": "code",
   "execution_count": null,
   "metadata": {},
   "outputs": [],
   "source": [
    "results_files = sorted(glob(f\"results/*.json\"))\n",
    "all_results = []\n",
    "layers = {}\n",
    "for file in results_files:\n",
    "    with open(file, \"r\") as f:\n",
    "        results = json.load(f)\n",
    "    model = re.search(r\"results/(.*?).json\", file).group(1)\n",
    "    layers[model] = results.pop(\"layers\")\n",
    "    for task_name, problem in results.items():\n",
    "        all_results.append({\n",
    "            \"task\": task_name,\n",
    "            \"model\": model,\n",
    "            \"model/task\": f\"{model}/{task_name}\"}\n",
    "            |\n",
    "            {\n",
    "                problem_name: np.array(values)\n",
    "                for problem_name, values in problem.items()\n",
    "            }\n",
    "        )\n",
    "df = pd.DataFrame(all_results)\n",
    "df.head()"
   ]
  },
  {
   "cell_type": "code",
   "execution_count": null,
   "metadata": {},
   "outputs": [],
   "source": [
    "df[\"percent\"] = df[\"outliers\"] * 100"
   ]
  },
  {
   "cell_type": "code",
   "execution_count": null,
   "metadata": {},
   "outputs": [],
   "source": [
    "resnet_df = df[df[\"model\"].str.match(r\"resnet\\d+$\")]\n",
    "resnet_df = resnet_df.iloc[[2,3,4,0,1]]\n",
    "base_df = df[df[\"model\"].str.match(r\"[a-z0-9]+-base\")]\n",
    "large_df = df[df[\"model\"].str.match(r\"[a-z0-9]+-large\")]\n",
    "rotated_df = df[df[\"model\"].str.match(r\"([a-z0-9]+-rotated)|(gptr2-.*)\")]"
   ]
  },
  {
   "cell_type": "code",
   "execution_count": null,
   "metadata": {},
   "outputs": [],
   "source": [
    "compose = lambda *F: functools.reduce(lambda f, g: lambda x: f(g(x)), F)"
   ]
  },
  {
   "cell_type": "code",
   "execution_count": null,
   "metadata": {},
   "outputs": [],
   "source": [
    "def plot_layer_chart(results: pd.DataFrame, column: str, title: str = None, split=\"task\", transform=None):\n",
    "    splits = results[split].unique()\n",
    "    models = results[\"model\"].unique()\n",
    "    fig, axes = plt.subplots(len(models))\n",
    "    fig.tight_layout(rect=[0, 0.03, 1, 0.95])\n",
    "    data = []\n",
    "    for pivot in splits:\n",
    "        for model in models:\n",
    "            sub_df = results[(results[split] == pivot) & (results[\"model\"] == model)]\n",
    "            for i, row in sub_df.iterrows():\n",
    "                values = row[column]\n",
    "                for layer, value in enumerate(values):\n",
    "                    data.append({\n",
    "                        split: pivot,\n",
    "                        \"model\": model,\n",
    "                        \"layer\": layer,\n",
    "                        column: value\n",
    "                    })\n",
    "    data = pd.DataFrame(data)\n",
    "    previous_tasks = None\n",
    "\n",
    "    for i, model in enumerate(models):\n",
    "        ax = axes[i] if len(models) > 1 else axes\n",
    "        sns.barplot(data[data[\"model\"] == model], x=\"layer\", y=column, hue=split, ax=ax)\n",
    "        tasks = data.loc[data[\"model\"] == model,split].unique()\n",
    "        if set(tasks) == previous_tasks:\n",
    "            ax.get_legend().remove()\n",
    "        else:\n",
    "            previous_tasks = set(tasks)\n",
    "        if transform is not None:\n",
    "            transform(ax)\n",
    "        if not all(layer[1] == 0 for layer in layers[model]):\n",
    "            for i, layer in enumerate(layers[model]):\n",
    "                if layer[1] == 0:\n",
    "                    ax.axvline(i - 0.5, ls=\"--\", color=sns.color_palette()[-2])\n",
    "        ax.set_title(model)\n",
    "        ax.set_xlabel(\"\")\n",
    "    plt.suptitle(title)\n"
   ]
  },
  {
   "cell_type": "code",
   "execution_count": null,
   "metadata": {},
   "outputs": [],
   "source": [
    "def add_values(ax: plt.Axes) -> plt.Axes:\n",
    "    max_height = max([bar.get_height() for bar in ax.patches])\n",
    "    for bar, line in zip(ax.patches, ax.lines):\n",
    "        x = bar.get_x()\n",
    "        width = bar.get_width()\n",
    "        height = bar.get_height()\n",
    "        y = max(line.get_ydata())\n",
    "        if np.isnan(y):\n",
    "            y = bar.get_height()\n",
    "        ax.text(x + width / 2., y + max_height / 50, f\"{height:.{int(height < 10)}f}\", ha=\"center\", va=\"bottom\", size=min(int(500 / len(ax.patches)), 12))\n",
    "    return ax"
   ]
  },
  {
   "cell_type": "code",
   "execution_count": null,
   "metadata": {},
   "outputs": [],
   "source": [
    "def draw_horizontal_line(ax: plt.Axes, y: float) -> plt.Axes:\n",
    "    ax.axhline(y=y, color=sns.color_palette()[-2], linestyle=\"--\", linewidth=1)\n",
    "    return ax"
   ]
  },
  {
   "cell_type": "code",
   "execution_count": null,
   "metadata": {},
   "outputs": [],
   "source": [
    "plot_layer_chart(base_df, title=\"Small LLMs\", column=\"percent\")\n",
    "plot_layer_chart(large_df, title=\"Large LLMs\", column=\"percent\")\n",
    "plot_layer_chart(resnet_df, title=\"ResNets\", column=\"percent\")\n",
    "plot_layer_chart(rotated_df, title=\"Rotationally Invariant Models\", column=\"percent\")"
   ]
  },
  {
   "cell_type": "code",
   "execution_count": null,
   "metadata": {},
   "outputs": [],
   "source": [
    "kurtosis_line = functools.partial(draw_horizontal_line, y=3)\n",
    "plot_layer_chart(base_df, title=\"Small LLMs\", column=\"kurtosis\", transform=kurtosis_line)\n",
    "plot_layer_chart(large_df, title=\"Large LLMs\", column=\"kurtosis\", transform=kurtosis_line)\n",
    "plot_layer_chart(resnet_df, title=\"ResNets\", column=\"kurtosis\", transform=kurtosis_line)\n",
    "plot_layer_chart(rotated_df, title=\"Rotationally Invariant Models\", column=\"kurtosis\", transform=kurtosis_line)"
   ]
  },
  {
   "cell_type": "code",
   "execution_count": null,
   "metadata": {},
   "outputs": [],
   "source": [
    "def plot_kurtosis(results: pd.DataFrame, title: str = None):\n",
    "    melted_results = pd.melt(results, id_vars=df.columns.difference([\"kurtosis\", \"rotated-kurtosis\"]), value_vars=[\"kurtosis\", \"rotated-kurtosis\"], var_name=\"type\", value_name=\"value\")\n",
    "    melted_results[\"kurtosis\"] = melted_results[\"value\"]\n",
    "    plot_layer_chart(melted_results, title=title, column=\"value\", split=\"type\", transform=compose(add_values, functools.partial(draw_horizontal_line, y=3)))"
   ]
  },
  {
   "cell_type": "code",
   "execution_count": null,
   "metadata": {},
   "outputs": [],
   "source": [
    "plot_kurtosis(base_df, title=\"Small LLMs\")\n",
    "plot_kurtosis(large_df, title=\"Large LLMs\")\n",
    "plot_kurtosis(resnet_df, title=\"ResNets\")\n",
    "plot_kurtosis(rotated_df, title=\"Rotationally Invariant Models\")"
   ]
  },
  {
   "cell_type": "code",
   "execution_count": null,
   "metadata": {},
   "outputs": [],
   "source": [
    "plot_layer_chart(base_df, title=\"Small LLMs\", column=\"rms\")\n",
    "plot_layer_chart(large_df, title=\"Large LLMs\", column=\"rms\")\n",
    "plot_layer_chart(resnet_df, title=\"ResNets\", column=\"rms\")\n",
    "plot_layer_chart(rotated_df, title=\"Rotationally Invariant Models\", column=\"rms\")"
   ]
  },
  {
   "cell_type": "code",
   "execution_count": null,
   "metadata": {},
   "outputs": [],
   "source": [
    "def plot_accuracy(results: pd.DataFrame, title: str = None, num_classes: int = 10):\n",
    "    melted_results = pd.melt(results, id_vars=df.columns.difference([\"accuracy\", \"reversed-accuracy\"]), value_vars=[\"accuracy\", \"reversed-accuracy\"], var_name=\"direction\", value_name=\"score\")\n",
    "    melted_results = melted_results.dropna(subset=[\"score\"])\n",
    "    melted_results[\"accuracy\"] = melted_results[\"score\"].apply(lambda scores: [score * 100 for score in scores])\n",
    "    plot_layer_chart(melted_results, title=title, column=\"accuracy\", split=\"direction\", transform=compose(functools.partial(draw_horizontal_line, y=100 / num_classes), add_values))"
   ]
  },
  {
   "cell_type": "code",
   "execution_count": null,
   "metadata": {},
   "outputs": [],
   "source": [
    "def reverse(series: pd.Series) -> pd.Series:\n",
    "    return series.map(compose(list, reversed), na_action=\"ignore\")"
   ]
  },
  {
   "cell_type": "code",
   "execution_count": null,
   "metadata": {},
   "outputs": [],
   "source": [
    "base_df.loc[:, \"accuracy\"] = base_df[\"accuracy\"]\n",
    "base_df.loc[:, \"reversed-accuracy\"] = reverse(base_df[\"reversed-accuracy\"])\n",
    "plot_accuracy(base_df, title=\"Small LLMs\", num_classes=3)\n",
    "\n",
    "large_df.loc[:, \"accuracy\"] = large_df[\"accuracy\"]\n",
    "large_df.loc[:, \"reversed-accuracy\"] = reverse(large_df[\"reversed-accuracy\"])\n",
    "plot_accuracy(large_df, title=\"Large LLMs\", num_classes=3)\n",
    "\n",
    "resnet_df.loc[:, \"accuracy\"] = resnet_df[\"top1\"]\n",
    "resnet_df.loc[:, \"reversed-accuracy\"] = resnet_df[\"reversed-top1\"]\n",
    "plot_accuracy(resnet_df, title=\"ResNets\", num_classes=1000)\n",
    "\n",
    "resnet_df.loc[:, \"accuracy\"] = resnet_df[\"top5\"]\n",
    "resnet_df.loc[:, \"reversed-accuracy\"] = resnet_df[\"reversed-top5\"]\n",
    "plot_accuracy(resnet_df, title=\"ResNets\", num_classes=200)\n",
    "\n",
    "rotated_resnet_df = rotated_df[rotated_df[\"model\"].str.match(r\"resnet\\d+\")]\n",
    "rotated_resnet_df.loc[:,\"accuracy\"] = rotated_resnet_df[\"top5\"]\n",
    "rotated_resnet_df.loc[:,\"reversed-accuracy\"] = rotated_resnet_df[\"reversed-top5\"]\n",
    "plot_accuracy(rotated_resnet_df, title=\"Rotationally Invariant ResNets\", num_classes=200)"
   ]
  }
 ],
 "metadata": {
  "kernelspec": {
   "display_name": "Python 3 (ipykernel)",
   "language": "python",
   "name": "python3"
  },
  "language_info": {
   "codemirror_mode": {
    "name": "ipython",
    "version": 3
   },
   "file_extension": ".py",
   "mimetype": "text/x-python",
   "name": "python",
   "nbconvert_exporter": "python",
   "pygments_lexer": "ipython3",
   "version": "3.11.4"
  }
 },
 "nbformat": 4,
 "nbformat_minor": 2
}
