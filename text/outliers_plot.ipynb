{
 "cells": [
  {
   "cell_type": "code",
   "execution_count": null,
   "metadata": {},
   "outputs": [],
   "source": [
    "import matplotlib.pyplot as plt\n",
    "from glob import glob\n",
    "import seaborn as sns\n",
    "import pandas as pd\n",
    "import numpy as np\n",
    "import matplotlib\n",
    "import json\n",
    "import re\n",
    "\n",
    "sns.set_theme(style=\"darkgrid\")\n",
    "matplotlib.rcParams['figure.figsize'] = (10, 6)\n",
    "\n",
    "%matplotlib inline"
   ]
  },
  {
   "cell_type": "code",
   "execution_count": null,
   "metadata": {},
   "outputs": [],
   "source": [
    "def load_results_df(key: str) -> pd.DataFrame:\n",
    "    results_files = glob(f\"results_*-{key}.json\")\n",
    "    all_results = []\n",
    "    for file in results_files:\n",
    "        with open(file, \"r\") as f:\n",
    "            results = json.load(f)\n",
    "        model = re.search(r\"results_(.*?).json\", file).group(1)\n",
    "        for task, values in results.items():\n",
    "            for layer, value in enumerate(values):\n",
    "                all_results.append({\n",
    "                    \"task\": task,\n",
    "                    \"model\": model,\n",
    "                    \"task/model\": f\"{task}/{model}\",\n",
    "                    \"layer\": layer,\n",
    "                    \"count\": value,\n",
    "                })\n",
    "    return pd.DataFrame(all_results)"
   ]
  },
  {
   "cell_type": "code",
   "execution_count": null,
   "metadata": {},
   "outputs": [],
   "source": [
    "base_results = load_results_df(\"base\")\n",
    "large_results = load_results_df(\"large\")\n",
    "base_results.head()"
   ]
  },
  {
   "cell_type": "code",
   "execution_count": null,
   "metadata": {},
   "outputs": [],
   "source": [
    "def plot_results(results: pd.DataFrame, title: str = None):\n",
    "    sns.barplot(results, x=\"layer\", y=\"count\", hue=\"task\")\n",
    "    plt.title(title)\n",
    "    plt.figure()"
   ]
  },
  {
   "cell_type": "code",
   "execution_count": null,
   "metadata": {},
   "outputs": [],
   "source": [
    "for model in base_results.model.unique():\n",
    "    plot_results(base_results[base_results.model == model], title=model)\n",
    "\n",
    "for model in large_results.model.unique():\n",
    "    plot_results(large_results[large_results.model == model], title=model)"
   ]
  }
 ],
 "metadata": {
  "kernelspec": {
   "display_name": "huggingface",
   "language": "python",
   "name": "python3"
  },
  "language_info": {
   "codemirror_mode": {
    "name": "ipython",
    "version": 3
   },
   "file_extension": ".py",
   "mimetype": "text/x-python",
   "name": "python",
   "nbconvert_exporter": "python",
   "pygments_lexer": "ipython3",
   "version": "3.10.8"
  },
  "orig_nbformat": 4
 },
 "nbformat": 4,
 "nbformat_minor": 2
}
