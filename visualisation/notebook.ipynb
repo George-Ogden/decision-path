{
 "cells": [
  {
   "cell_type": "code",
   "execution_count": 1,
   "metadata": {},
   "outputs": [
    {
     "name": "stderr",
     "output_type": "stream",
     "text": [
      "/home/george/miniconda3/envs/lucid/lib/python3.6/site-packages/tensorflow/python/framework/dtypes.py:516: FutureWarning: Passing (type, 1) or '1type' as a synonym of type is deprecated; in a future version of numpy, it will be understood as (type, (1,)) / '(1,)type'.\n",
      "  _np_qint8 = np.dtype([(\"qint8\", np.int8, 1)])\n",
      "/home/george/miniconda3/envs/lucid/lib/python3.6/site-packages/tensorflow/python/framework/dtypes.py:517: FutureWarning: Passing (type, 1) or '1type' as a synonym of type is deprecated; in a future version of numpy, it will be understood as (type, (1,)) / '(1,)type'.\n",
      "  _np_quint8 = np.dtype([(\"quint8\", np.uint8, 1)])\n",
      "/home/george/miniconda3/envs/lucid/lib/python3.6/site-packages/tensorflow/python/framework/dtypes.py:518: FutureWarning: Passing (type, 1) or '1type' as a synonym of type is deprecated; in a future version of numpy, it will be understood as (type, (1,)) / '(1,)type'.\n",
      "  _np_qint16 = np.dtype([(\"qint16\", np.int16, 1)])\n",
      "/home/george/miniconda3/envs/lucid/lib/python3.6/site-packages/tensorflow/python/framework/dtypes.py:519: FutureWarning: Passing (type, 1) or '1type' as a synonym of type is deprecated; in a future version of numpy, it will be understood as (type, (1,)) / '(1,)type'.\n",
      "  _np_quint16 = np.dtype([(\"quint16\", np.uint16, 1)])\n",
      "/home/george/miniconda3/envs/lucid/lib/python3.6/site-packages/tensorflow/python/framework/dtypes.py:520: FutureWarning: Passing (type, 1) or '1type' as a synonym of type is deprecated; in a future version of numpy, it will be understood as (type, (1,)) / '(1,)type'.\n",
      "  _np_qint32 = np.dtype([(\"qint32\", np.int32, 1)])\n",
      "/home/george/miniconda3/envs/lucid/lib/python3.6/site-packages/tensorflow/python/framework/dtypes.py:525: FutureWarning: Passing (type, 1) or '1type' as a synonym of type is deprecated; in a future version of numpy, it will be understood as (type, (1,)) / '(1,)type'.\n",
      "  np_resource = np.dtype([(\"resource\", np.ubyte, 1)])\n",
      "/home/george/miniconda3/envs/lucid/lib/python3.6/site-packages/tensorboard/compat/tensorflow_stub/dtypes.py:541: FutureWarning: Passing (type, 1) or '1type' as a synonym of type is deprecated; in a future version of numpy, it will be understood as (type, (1,)) / '(1,)type'.\n",
      "  _np_qint8 = np.dtype([(\"qint8\", np.int8, 1)])\n",
      "/home/george/miniconda3/envs/lucid/lib/python3.6/site-packages/tensorboard/compat/tensorflow_stub/dtypes.py:542: FutureWarning: Passing (type, 1) or '1type' as a synonym of type is deprecated; in a future version of numpy, it will be understood as (type, (1,)) / '(1,)type'.\n",
      "  _np_quint8 = np.dtype([(\"quint8\", np.uint8, 1)])\n",
      "/home/george/miniconda3/envs/lucid/lib/python3.6/site-packages/tensorboard/compat/tensorflow_stub/dtypes.py:543: FutureWarning: Passing (type, 1) or '1type' as a synonym of type is deprecated; in a future version of numpy, it will be understood as (type, (1,)) / '(1,)type'.\n",
      "  _np_qint16 = np.dtype([(\"qint16\", np.int16, 1)])\n",
      "/home/george/miniconda3/envs/lucid/lib/python3.6/site-packages/tensorboard/compat/tensorflow_stub/dtypes.py:544: FutureWarning: Passing (type, 1) or '1type' as a synonym of type is deprecated; in a future version of numpy, it will be understood as (type, (1,)) / '(1,)type'.\n",
      "  _np_quint16 = np.dtype([(\"quint16\", np.uint16, 1)])\n",
      "/home/george/miniconda3/envs/lucid/lib/python3.6/site-packages/tensorboard/compat/tensorflow_stub/dtypes.py:545: FutureWarning: Passing (type, 1) or '1type' as a synonym of type is deprecated; in a future version of numpy, it will be understood as (type, (1,)) / '(1,)type'.\n",
      "  _np_qint32 = np.dtype([(\"qint32\", np.int32, 1)])\n",
      "/home/george/miniconda3/envs/lucid/lib/python3.6/site-packages/tensorboard/compat/tensorflow_stub/dtypes.py:550: FutureWarning: Passing (type, 1) or '1type' as a synonym of type is deprecated; in a future version of numpy, it will be understood as (type, (1,)) / '(1,)type'.\n",
      "  np_resource = np.dtype([(\"resource\", np.ubyte, 1)])\n"
     ]
    }
   ],
   "source": [
    "import tensorflow as tf\n",
    "import seaborn as sns\n",
    "import numpy as np\n",
    "import matplotlib\n",
    "\n",
    "from IPython.display import Image, display\n",
    "from typing import Union\n",
    "\n",
    "%matplotlib inline\n",
    "matplotlib.rcParams['figure.figsize'] = (20, 8)"
   ]
  },
  {
   "cell_type": "code",
   "execution_count": 2,
   "metadata": {},
   "outputs": [
    {
     "name": "stdout",
     "output_type": "stream",
     "text": [
      "Copying gs://modelzoo/vision/slim_models/ResnetV2_50.pb...\n",
      "- [1 files][ 97.9 MiB/ 97.9 MiB]    7.7 MiB/s                                   \n",
      "Operation completed over 1 objects/97.9 MiB.                                     \n"
     ]
    }
   ],
   "source": [
    "# download from Google Cloud Storage\n",
    "!gsutil cp gs://modelzoo/vision/slim_models/ResnetV2_50.pb ."
   ]
  },
  {
   "cell_type": "code",
   "execution_count": 3,
   "metadata": {},
   "outputs": [],
   "source": [
    "model_path = \"ResnetV2_50.pb\"\n",
    "class_id = 2 # goldfish (classes are 1-indexed)"
   ]
  },
  {
   "cell_type": "code",
   "execution_count": 4,
   "metadata": {},
   "outputs": [],
   "source": [
    "# Load the graph from the .pb file\n",
    "with tf.io.gfile.GFile(model_path, 'rb') as f:\n",
    "    graph_def = tf.compat.v1.GraphDef()\n",
    "    graph_def.ParseFromString(f.read())"
   ]
  },
  {
   "cell_type": "code",
   "execution_count": 5,
   "metadata": {},
   "outputs": [],
   "source": [
    "with tf.compat.v1.Session() as sess:\n",
    "    # Set the graph as the default graph\n",
    "    tf.compat.v1.import_graph_def(graph_def, name='')\n",
    "    graph = sess.graph"
   ]
  },
  {
   "cell_type": "code",
   "execution_count": 6,
   "metadata": {},
   "outputs": [],
   "source": [
    "def get_tensor(tensor_name: str) -> np.ndarray:\n",
    "    with tf.compat.v1.Session() as sess:\n",
    "        # Set the graph as the default graph\n",
    "        tf.compat.v1.import_graph_def(graph_def, name='')\n",
    "\n",
    "        # Get input and output tensors\n",
    "        input_tensor = sess.graph.get_tensor_by_name(\"input:0\")\n",
    "        output_tensor = sess.graph.get_tensor_by_name(tensor_name)\n",
    "\n",
    "        # Perform inference\n",
    "        input_data = np.random.randn(1, 224, 224, 3)\n",
    "        return sess.run(output_tensor, feed_dict={input_tensor: input_data})"
   ]
  },
  {
   "cell_type": "code",
   "execution_count": 7,
   "metadata": {},
   "outputs": [],
   "source": [
    "def get_images(tensor_name: str, feature_id: int) -> Image:\n",
    "    \"\"\"download the images from OpenAI Microscope so they can be displayd in the notebook\"\"\"\n",
    "    return Image(url=f\"https://openaipublic.blob.core.windows.net/microscopeprod/2020-07-25/2020-07-25/resnetv2_50_slim/lucid.dataset_examples/_dataset_examples/dataset%3Dimagenet%26op%3D{tensor_name.replace('/', '%252F')}%253A0/channel_{feature_id}_40.png\")"
   ]
  },
  {
   "cell_type": "code",
   "execution_count": 8,
   "metadata": {},
   "outputs": [],
   "source": [
    "def to_op(tensor: Union[tf.Tensor, tf.Operation]) -> tf.Operation:\n",
    "    \"\"\"utility to convert a tensor to an operation\"\"\"\n",
    "    if isinstance(tensor, tf.Tensor):\n",
    "        return tensor.op\n",
    "    return tensor"
   ]
  },
  {
   "cell_type": "code",
   "execution_count": 9,
   "metadata": {},
   "outputs": [],
   "source": [
    "def go_backwards(layer: Union[tf.Operation, str], num_layers: int=1) -> tf.Tensor:\n",
    "    \"\"\"move backwards in the graph by num_layers, always selecting the first input\"\"\"\n",
    "    if isinstance(layer, str):\n",
    "        layer = graph.get_operation_by_name(layer)\n",
    "    previous_layer = layer\n",
    "    for _ in range(num_layers):\n",
    "        previous_layer = list(to_op(previous_layer).inputs)[0]\n",
    "        print(previous_layer)\n",
    "    return to_op(previous_layer)\n"
   ]
  },
  {
   "cell_type": "code",
   "execution_count": 10,
   "metadata": {},
   "outputs": [
    {
     "data": {
      "text/plain": [
       "[<tf.Operation 'resnet_v2_50/logits/biases' type=Const>,\n",
       " <tf.Operation 'resnet_v2_50/logits/biases/read' type=Identity>,\n",
       " <tf.Operation 'resnet_v2_50/logits/Conv2D' type=Conv2D>,\n",
       " <tf.Operation 'resnet_v2_50/logits/BiasAdd' type=BiasAdd>,\n",
       " <tf.Operation 'resnet_v2_50/SpatialSqueeze' type=Squeeze>,\n",
       " <tf.Operation 'resnet_v2_50/predictions/Reshape/shape' type=Const>,\n",
       " <tf.Operation 'resnet_v2_50/predictions/Reshape' type=Reshape>,\n",
       " <tf.Operation 'resnet_v2_50/predictions/Softmax' type=Softmax>,\n",
       " <tf.Operation 'resnet_v2_50/predictions/Shape' type=Shape>,\n",
       " <tf.Operation 'resnet_v2_50/predictions/Reshape_1' type=Reshape>]"
      ]
     },
     "execution_count": 10,
     "metadata": {},
     "output_type": "execute_result"
    }
   ],
   "source": [
    "# visualise the final few operations\n",
    "graph.get_operations()[-10:]"
   ]
  },
  {
   "cell_type": "code",
   "execution_count": 11,
   "metadata": {},
   "outputs": [
    {
     "name": "stdout",
     "output_type": "stream",
     "text": [
      "Tensor(\"resnet_v2_50/predictions/Softmax:0\", shape=(?, 1001), dtype=float32)\n",
      "Tensor(\"resnet_v2_50/predictions/Reshape:0\", shape=(?, 1001), dtype=float32)\n",
      "Tensor(\"resnet_v2_50/SpatialSqueeze:0\", shape=(?, 1001), dtype=float32)\n",
      "Tensor(\"resnet_v2_50/logits/BiasAdd:0\", shape=(?, 1, 1, 1001), dtype=float32)\n",
      "Tensor(\"resnet_v2_50/logits/Conv2D:0\", shape=(?, 1, 1, 1001), dtype=float32)\n"
     ]
    },
    {
     "data": {
      "text/plain": [
       "<tf.Operation 'resnet_v2_50/logits/Conv2D' type=Conv2D>"
      ]
     },
     "execution_count": 11,
     "metadata": {},
     "output_type": "execute_result"
    }
   ],
   "source": [
    "# load the linear layer by traversing from the end\n",
    "output = graph.get_operations()[-1]\n",
    "linear_layer = go_backwards(output, 5)\n",
    "linear_layer"
   ]
  },
  {
   "cell_type": "markdown",
   "metadata": {},
   "source": [
    "Weirdly the model has 1001 classes - the usual ImageNet classes but with 1-based indexing.  \n",
    "Also, the final Conv2D is dense layer."
   ]
  },
  {
   "cell_type": "code",
   "execution_count": 12,
   "metadata": {},
   "outputs": [
    {
     "data": {
      "text/plain": [
       "[<tf.Tensor 'resnet_v2_50/pool5:0' shape=(?, 1, 1, 2048) dtype=float32>,\n",
       " <tf.Tensor 'resnet_v2_50/logits/weights/read:0' shape=(1, 1, 2048, 1001) dtype=float32>]"
      ]
     },
     "execution_count": 12,
     "metadata": {},
     "output_type": "execute_result"
    }
   ],
   "source": [
    "list(linear_layer.inputs)"
   ]
  },
  {
   "cell_type": "code",
   "execution_count": 13,
   "metadata": {},
   "outputs": [
    {
     "data": {
      "text/plain": [
       "(1, 1, 2048, 1001)"
      ]
     },
     "execution_count": 13,
     "metadata": {},
     "output_type": "execute_result"
    }
   ],
   "source": [
    "weight_matrix = get_tensor(linear_layer.inputs[1].name)\n",
    "weight_matrix.shape"
   ]
  },
  {
   "cell_type": "code",
   "execution_count": 14,
   "metadata": {},
   "outputs": [
    {
     "data": {
      "text/plain": [
       "(-0.070755094, 0.6412277)"
      ]
     },
     "execution_count": 14,
     "metadata": {},
     "output_type": "execute_result"
    }
   ],
   "source": [
    "# check all the weights that are relevant to the class\n",
    "relevant_weights = weight_matrix[0, 0, :, class_id]\n",
    "ordering = (-relevant_weights).argsort()\n",
    "relevant_weights.min(), relevant_weights.max()"
   ]
  },
  {
   "cell_type": "code",
   "execution_count": 15,
   "metadata": {},
   "outputs": [
    {
     "data": {
      "image/png": "[encoded data removed]",
      "text/plain": [
       "<Figure size 1440x576 with 1 Axes>"
      ]
     },
     "metadata": {
      "needs_background": "light"
     },
     "output_type": "display_data"
    }
   ],
   "source": [
    "# plot a histogram of the distribution of the weights\n",
    "sns.histplot(relevant_weights, bins=100)\n",
    "None"
   ]
  },
  {
   "cell_type": "markdown",
   "metadata": {},
   "source": [
    "Most weights are close to zero, but there are a few that are much larger.  \n",
    "Large negative weights are very rare."
   ]
  },
  {
   "cell_type": "code",
   "execution_count": 16,
   "metadata": {},
   "outputs": [
    {
     "data": {
      "text/plain": [
       "array([1594,  523, 1668, 1030, 1015])"
      ]
     },
     "execution_count": 16,
     "metadata": {},
     "output_type": "execute_result"
    }
   ],
   "source": [
    "# look at the features related to the largest weights\n",
    "important_features = ordering[:5]\n",
    "important_features"
   ]
  },
  {
   "cell_type": "code",
   "execution_count": 17,
   "metadata": {},
   "outputs": [
    {
     "data": {
      "text/plain": [
       "array([0.6412277 , 0.25403914, 0.19300735, 0.17833017, 0.16646281],\n",
       "      dtype=float32)"
      ]
     },
     "execution_count": 17,
     "metadata": {},
     "output_type": "execute_result"
    }
   ],
   "source": [
    "# display the relevant values\n",
    "relevant_weights[important_features]"
   ]
  },
  {
   "cell_type": "code",
   "execution_count": 18,
   "metadata": {},
   "outputs": [
    {
     "data": {
      "text/plain": [
       "1594"
      ]
     },
     "execution_count": 18,
     "metadata": {},
     "output_type": "execute_result"
    }
   ],
   "source": [
    "# select the main feature to visualise\n",
    "main_feature = important_features[0]\n",
    "main_feature"
   ]
  },
  {
   "cell_type": "code",
   "execution_count": 19,
   "metadata": {},
   "outputs": [
    {
     "name": "stdout",
     "output_type": "stream",
     "text": [
      "Tensor(\"resnet_v2_50/pool5:0\", shape=(?, 1, 1, 2048), dtype=float32)\n",
      "Tensor(\"resnet_v2_50/postnorm/Relu:0\", shape=(?, 7, 7, 2048), dtype=float32)\n",
      "Tensor(\"resnet_v2_50/postnorm/FusedBatchNorm:0\", shape=(?, 7, 7, 2048), dtype=float32)\n",
      "Tensor(\"resnet_v2_50/block4/unit_3/bottleneck_v2/add:0\", shape=(?, 7, 7, 2048), dtype=float32)\n"
     ]
    },
    {
     "data": {
      "text/plain": [
       "<tf.Operation 'resnet_v2_50/block4/unit_3/bottleneck_v2/add' type=Add>"
      ]
     },
     "execution_count": 19,
     "metadata": {},
     "output_type": "execute_result"
    }
   ],
   "source": [
    "# backtrack to the residual stream\n",
    "residual_stream = go_backwards(linear_layer, 4)\n",
    "residual_stream"
   ]
  },
  {
   "cell_type": "code",
   "execution_count": 20,
   "metadata": {},
   "outputs": [
    {
     "data": {
      "text/html": [
       "<img src=\"https://openaipublic.blob.core.windows.net/microscopeprod/2020-07-25/2020-07-25/resnetv2_50_slim/lucid.dataset_examples/_dataset_examples/dataset%3Dimagenet%26op%3Dresnet_v2_50%252Fblock4%252Funit_3%252Fbottleneck_v2%252Fadd%253A0/channel_1594_40.png\"/>"
      ],
      "text/plain": [
       "<IPython.core.display.Image object>"
      ]
     },
     "metadata": {},
     "output_type": "display_data"
    }
   ],
   "source": [
    "# dataset examples that maximise the last feature activation\n",
    "display(get_images(residual_stream.name, main_feature))"
   ]
  },
  {
   "cell_type": "code",
   "execution_count": 21,
   "metadata": {},
   "outputs": [
    {
     "name": "stdout",
     "output_type": "stream",
     "text": [
      "Tensor(\"resnet_v2_50/block4/unit_2/bottleneck_v2/add:0\", shape=(?, 7, 7, 2048), dtype=float32)\n"
     ]
    },
    {
     "data": {
      "text/plain": [
       "<tf.Operation 'resnet_v2_50/block4/unit_2/bottleneck_v2/add' type=Add>"
      ]
     },
     "execution_count": 21,
     "metadata": {},
     "output_type": "execute_result"
    }
   ],
   "source": [
    "# go back in the residual stream\n",
    "residual_stream = go_backwards(residual_stream)\n",
    "residual_stream"
   ]
  },
  {
   "cell_type": "code",
   "execution_count": 22,
   "metadata": {},
   "outputs": [
    {
     "data": {
      "text/html": [
       "<img src=\"https://openaipublic.blob.core.windows.net/microscopeprod/2020-07-25/2020-07-25/resnetv2_50_slim/lucid.dataset_examples/_dataset_examples/dataset%3Dimagenet%26op%3Dresnet_v2_50%252Fblock4%252Funit_2%252Fbottleneck_v2%252Fadd%253A0/channel_1594_40.png\"/>"
      ],
      "text/plain": [
       "<IPython.core.display.Image object>"
      ]
     },
     "metadata": {},
     "output_type": "display_data"
    }
   ],
   "source": [
    "# display the dataset examples that maximise the feature activation\n",
    "display(get_images(residual_stream.name, main_feature))"
   ]
  },
  {
   "cell_type": "code",
   "execution_count": 23,
   "metadata": {},
   "outputs": [
    {
     "name": "stdout",
     "output_type": "stream",
     "text": [
      "Tensor(\"resnet_v2_50/block4/unit_1/bottleneck_v2/add:0\", shape=(?, 7, 7, 2048), dtype=float32)\n"
     ]
    },
    {
     "data": {
      "text/plain": [
       "<tf.Operation 'resnet_v2_50/block4/unit_1/bottleneck_v2/add' type=Add>"
      ]
     },
     "execution_count": 23,
     "metadata": {},
     "output_type": "execute_result"
    }
   ],
   "source": [
    "# go back in the residual stream\n",
    "residual_stream = go_backwards(residual_stream)\n",
    "residual_stream"
   ]
  },
  {
   "cell_type": "code",
   "execution_count": 24,
   "metadata": {},
   "outputs": [
    {
     "data": {
      "text/html": [
       "<img src=\"https://openaipublic.blob.core.windows.net/microscopeprod/2020-07-25/2020-07-25/resnetv2_50_slim/lucid.dataset_examples/_dataset_examples/dataset%3Dimagenet%26op%3Dresnet_v2_50%252Fblock4%252Funit_1%252Fbottleneck_v2%252Fadd%253A0/channel_1594_40.png\"/>"
      ],
      "text/plain": [
       "<IPython.core.display.Image object>"
      ]
     },
     "metadata": {},
     "output_type": "display_data"
    }
   ],
   "source": [
    "# display the dataset examples that maximise the feature activation\n",
    "display(get_images(residual_stream.name, main_feature))"
   ]
  },
  {
   "cell_type": "code",
   "execution_count": 25,
   "metadata": {},
   "outputs": [
    {
     "name": "stdout",
     "output_type": "stream",
     "text": [
      "Tensor(\"resnet_v2_50/block4/unit_1/bottleneck_v2/shortcut/BiasAdd:0\", shape=(?, 7, 7, 2048), dtype=float32)\n",
      "Tensor(\"resnet_v2_50/block4/unit_1/bottleneck_v2/shortcut/Conv2D:0\", shape=(?, 7, 7, 2048), dtype=float32)\n"
     ]
    },
    {
     "data": {
      "text/plain": [
       "(1, 1, 1024, 2048)"
      ]
     },
     "execution_count": 25,
     "metadata": {},
     "output_type": "execute_result"
    }
   ],
   "source": [
    "# find the shortcut\n",
    "shortcut = go_backwards(residual_stream, 2)\n",
    "weights = get_tensor(shortcut.inputs[1].name)\n",
    "weights.shape"
   ]
  },
  {
   "cell_type": "markdown",
   "metadata": {},
   "source": [
    "The residual stream changes shape here so the shortcut is a matrix to map from the previous shape to the new one.  \n",
    "These connections seem to matter less than the simple add that happens between most layers."
   ]
  },
  {
   "cell_type": "code",
   "execution_count": 26,
   "metadata": {},
   "outputs": [
    {
     "data": {
      "text/plain": [
       "695"
      ]
     },
     "execution_count": 26,
     "metadata": {},
     "output_type": "execute_result"
    },
    {
     "data": {
      "image/png": "[encoded data removed]",
      "text/plain": [
       "<Figure size 1440x576 with 1 Axes>"
      ]
     },
     "metadata": {
      "needs_background": "light"
     },
     "output_type": "display_data"
    }
   ],
   "source": [
    "# plot distribution of weights going into the main feature\n",
    "feature_weights = weights[0, 0, :, main_feature]\n",
    "sns.histplot(feature_weights, bins=100)\n",
    "main_feature = feature_weights.argmax()\n",
    "main_feature"
   ]
  },
  {
   "cell_type": "code",
   "execution_count": 27,
   "metadata": {},
   "outputs": [
    {
     "name": "stdout",
     "output_type": "stream",
     "text": [
      "Tensor(\"resnet_v2_50/block4/unit_1/bottleneck_v2/preact/Relu:0\", shape=(?, 7, 7, 1024), dtype=float32)\n",
      "Tensor(\"resnet_v2_50/block4/unit_1/bottleneck_v2/preact/FusedBatchNorm:0\", shape=(?, 7, 7, 1024), dtype=float32)\n",
      "Tensor(\"resnet_v2_50/block3/unit_6/bottleneck_v2/add:0\", shape=(?, 7, 7, 1024), dtype=float32)\n"
     ]
    },
    {
     "data": {
      "text/html": [
       "<img src=\"https://openaipublic.blob.core.windows.net/microscopeprod/2020-07-25/2020-07-25/resnetv2_50_slim/lucid.dataset_examples/_dataset_examples/dataset%3Dimagenet%26op%3Dresnet_v2_50%252Fblock3%252Funit_6%252Fbottleneck_v2%252Fadd%253A0/channel_695_40.png\"/>"
      ],
      "text/plain": [
       "<IPython.core.display.Image object>"
      ]
     },
     "metadata": {},
     "output_type": "display_data"
    },
    {
     "name": "stdout",
     "output_type": "stream",
     "text": [
      "Tensor(\"resnet_v2_50/block3/unit_6/bottleneck_v2/shortcut/MaxPool:0\", shape=(?, 7, 7, 1024), dtype=float32)\n",
      "Tensor(\"resnet_v2_50/block3/unit_5/bottleneck_v2/add:0\", shape=(?, 14, 14, 1024), dtype=float32)\n"
     ]
    },
    {
     "data": {
      "text/html": [
       "<img src=\"https://openaipublic.blob.core.windows.net/microscopeprod/2020-07-25/2020-07-25/resnetv2_50_slim/lucid.dataset_examples/_dataset_examples/dataset%3Dimagenet%26op%3Dresnet_v2_50%252Fblock3%252Funit_5%252Fbottleneck_v2%252Fadd%253A0/channel_695_40.png\"/>"
      ],
      "text/plain": [
       "<IPython.core.display.Image object>"
      ]
     },
     "metadata": {},
     "output_type": "display_data"
    },
    {
     "name": "stdout",
     "output_type": "stream",
     "text": [
      "Tensor(\"resnet_v2_50/block3/unit_4/bottleneck_v2/add:0\", shape=(?, 14, 14, 1024), dtype=float32)\n"
     ]
    },
    {
     "data": {
      "text/html": [
       "<img src=\"https://openaipublic.blob.core.windows.net/microscopeprod/2020-07-25/2020-07-25/resnetv2_50_slim/lucid.dataset_examples/_dataset_examples/dataset%3Dimagenet%26op%3Dresnet_v2_50%252Fblock3%252Funit_4%252Fbottleneck_v2%252Fadd%253A0/channel_695_40.png\"/>"
      ],
      "text/plain": [
       "<IPython.core.display.Image object>"
      ]
     },
     "metadata": {},
     "output_type": "display_data"
    },
    {
     "name": "stdout",
     "output_type": "stream",
     "text": [
      "Tensor(\"resnet_v2_50/block3/unit_3/bottleneck_v2/add:0\", shape=(?, 14, 14, 1024), dtype=float32)\n"
     ]
    },
    {
     "data": {
      "text/html": [
       "<img src=\"https://openaipublic.blob.core.windows.net/microscopeprod/2020-07-25/2020-07-25/resnetv2_50_slim/lucid.dataset_examples/_dataset_examples/dataset%3Dimagenet%26op%3Dresnet_v2_50%252Fblock3%252Funit_3%252Fbottleneck_v2%252Fadd%253A0/channel_695_40.png\"/>"
      ],
      "text/plain": [
       "<IPython.core.display.Image object>"
      ]
     },
     "metadata": {},
     "output_type": "display_data"
    },
    {
     "name": "stdout",
     "output_type": "stream",
     "text": [
      "Tensor(\"resnet_v2_50/block3/unit_2/bottleneck_v2/add:0\", shape=(?, 14, 14, 1024), dtype=float32)\n"
     ]
    },
    {
     "data": {
      "text/html": [
       "<img src=\"https://openaipublic.blob.core.windows.net/microscopeprod/2020-07-25/2020-07-25/resnetv2_50_slim/lucid.dataset_examples/_dataset_examples/dataset%3Dimagenet%26op%3Dresnet_v2_50%252Fblock3%252Funit_2%252Fbottleneck_v2%252Fadd%253A0/channel_695_40.png\"/>"
      ],
      "text/plain": [
       "<IPython.core.display.Image object>"
      ]
     },
     "metadata": {},
     "output_type": "display_data"
    },
    {
     "name": "stdout",
     "output_type": "stream",
     "text": [
      "Tensor(\"resnet_v2_50/block3/unit_1/bottleneck_v2/add:0\", shape=(?, 14, 14, 1024), dtype=float32)\n"
     ]
    },
    {
     "data": {
      "text/html": [
       "<img src=\"https://openaipublic.blob.core.windows.net/microscopeprod/2020-07-25/2020-07-25/resnetv2_50_slim/lucid.dataset_examples/_dataset_examples/dataset%3Dimagenet%26op%3Dresnet_v2_50%252Fblock3%252Funit_1%252Fbottleneck_v2%252Fadd%253A0/channel_695_40.png\"/>"
      ],
      "text/plain": [
       "<IPython.core.display.Image object>"
      ]
     },
     "metadata": {},
     "output_type": "display_data"
    }
   ],
   "source": [
    "# display the dataset examples that maximise the feature going backwards in the network\n",
    "residual_stream = shortcut\n",
    "for _ in range(6):\n",
    "    residual_stream = go_backwards(residual_stream)\n",
    "    while not residual_stream.name.endswith(\"add\"):\n",
    "        residual_stream = go_backwards(residual_stream)\n",
    "    display(get_images(residual_stream.name, main_feature))"
   ]
  },
  {
   "cell_type": "markdown",
   "metadata": {},
   "source": [
    "These generally seem to be less relevant to the class, suggesting there is an important change between these two layers."
   ]
  }
 ],
 "metadata": {
  "kernelspec": {
   "display_name": "Python 3 (ipykernel)",
   "language": "python",
   "name": "python3"
  },
  "language_info": {
   "codemirror_mode": {
    "name": "ipython",
    "version": 3
   },
   "file_extension": ".py",
   "mimetype": "text/x-python",
   "name": "python",
   "nbconvert_exporter": "python",
   "pygments_lexer": "ipython3",
   "version": "3.6.13"
  }
 },
 "nbformat": 4,
 "nbformat_minor": 2
}
